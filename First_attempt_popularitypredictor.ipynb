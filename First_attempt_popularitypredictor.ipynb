{
  "nbformat": 4,
  "nbformat_minor": 0,
  "metadata": {
    "colab": {
      "provenance": [],
      "include_colab_link": true
    },
    "kernelspec": {
      "name": "python3",
      "display_name": "Python 3"
    },
    "language_info": {
      "name": "python"
    }
  },
  "cells": [
    {
      "cell_type": "markdown",
      "metadata": {
        "id": "view-in-github",
        "colab_type": "text"
      },
      "source": [
        "<a href=\"https://colab.research.google.com/github/ollayyy/Popularity-Predictor/blob/main/First_attempt_popularitypredictor.ipynb\" target=\"_parent\"><img src=\"https://colab.research.google.com/assets/colab-badge.svg\" alt=\"Open In Colab\"/></a>"
      ]
    },
    {
      "cell_type": "markdown",
      "source": [
        "Installs & Imports"
      ],
      "metadata": {
        "id": "PjHjsV938_X6"
      }
    },
    {
      "cell_type": "code",
      "source": [
        "pip install pyspark"
      ],
      "metadata": {
        "colab": {
          "base_uri": "https://localhost:8080/"
        },
        "id": "HZ9HvAdLWPVT",
        "outputId": "c0e8f7b2-0064-4018-e1aa-15735d7606d4"
      },
      "execution_count": 1,
      "outputs": [
        {
          "output_type": "stream",
          "name": "stdout",
          "text": [
            "Collecting pyspark\n",
            "  Downloading pyspark-3.4.1.tar.gz (310.8 MB)\n",
            "\u001b[2K     \u001b[90m━━━━━━━━━━━━━━━━━━━━━━━━━━━━━━━━━━━━━━━\u001b[0m \u001b[32m310.8/310.8 MB\u001b[0m \u001b[31m3.0 MB/s\u001b[0m eta \u001b[36m0:00:00\u001b[0m\n",
            "\u001b[?25h  Preparing metadata (setup.py) ... \u001b[?25l\u001b[?25hdone\n",
            "Requirement already satisfied: py4j==0.10.9.7 in /usr/local/lib/python3.10/dist-packages (from pyspark) (0.10.9.7)\n",
            "Building wheels for collected packages: pyspark\n",
            "  Building wheel for pyspark (setup.py) ... \u001b[?25l\u001b[?25hdone\n",
            "  Created wheel for pyspark: filename=pyspark-3.4.1-py2.py3-none-any.whl size=311285388 sha256=a1e52e684ca410f2f71185ce7251beeb8dc83e966a3db6d440452fe9c3f0c13b\n",
            "  Stored in directory: /root/.cache/pip/wheels/0d/77/a3/ff2f74cc9ab41f8f594dabf0579c2a7c6de920d584206e0834\n",
            "Successfully built pyspark\n",
            "Installing collected packages: pyspark\n",
            "Successfully installed pyspark-3.4.1\n"
          ]
        }
      ]
    },
    {
      "cell_type": "code",
      "source": [
        "pip install findspark"
      ],
      "metadata": {
        "colab": {
          "base_uri": "https://localhost:8080/"
        },
        "id": "ae8Ddm0DVqXy",
        "outputId": "b07cc90f-2a0b-43b2-c560-294deb372a0b"
      },
      "execution_count": 2,
      "outputs": [
        {
          "output_type": "stream",
          "name": "stdout",
          "text": [
            "Collecting findspark\n",
            "  Downloading findspark-2.0.1-py2.py3-none-any.whl (4.4 kB)\n",
            "Installing collected packages: findspark\n",
            "Successfully installed findspark-2.0.1\n"
          ]
        }
      ]
    },
    {
      "cell_type": "code",
      "source": [
        "import findspark\n",
        "findspark.init()"
      ],
      "metadata": {
        "id": "eypJyzplUd-a"
      },
      "execution_count": 3,
      "outputs": []
    },
    {
      "cell_type": "code",
      "source": [
        "import pandas as pd"
      ],
      "metadata": {
        "id": "nDcGTs__qXB2"
      },
      "execution_count": 4,
      "outputs": []
    },
    {
      "cell_type": "code",
      "source": [
        "import tensorflow as tf\n"
      ],
      "metadata": {
        "id": "ZAyxg7c8s3Xa"
      },
      "execution_count": 5,
      "outputs": []
    },
    {
      "cell_type": "code",
      "source": [
        "from pyspark.sql import SparkSession\n",
        "from pyspark.sql.functions import col"
      ],
      "metadata": {
        "id": "0Ep_-JMZUmr-"
      },
      "execution_count": 6,
      "outputs": []
    },
    {
      "cell_type": "code",
      "source": [
        "from sklearn.model_selection import train_test_split\n",
        "from sklearn.preprocessing import StandardScaler\n",
        "from sklearn.linear_model import LinearRegression\n",
        "from sklearn.metrics import mean_squared_error"
      ],
      "metadata": {
        "id": "A_JU3r55XaGN"
      },
      "execution_count": 7,
      "outputs": []
    },
    {
      "cell_type": "code",
      "source": [
        "from google.colab import drive\n",
        "drive.mount('/content/drive')"
      ],
      "metadata": {
        "colab": {
          "base_uri": "https://localhost:8080/"
        },
        "id": "T7sub_EoWjZi",
        "outputId": "7aa88ef5-d3cd-4694-8247-0076bdb08aca"
      },
      "execution_count": 8,
      "outputs": [
        {
          "output_type": "stream",
          "name": "stdout",
          "text": [
            "Mounted at /content/drive\n"
          ]
        }
      ]
    },
    {
      "cell_type": "markdown",
      "source": [
        "Call Data"
      ],
      "metadata": {
        "id": "picR46gyYWjb"
      }
    },
    {
      "cell_type": "code",
      "source": [
        "spark = SparkSession.builder.appName(\"PopularityPredictor\").getOrCreate()"
      ],
      "metadata": {
        "id": "l4fxqMP6VDAd"
      },
      "execution_count": 9,
      "outputs": []
    },
    {
      "cell_type": "code",
      "source": [
        "csv_path = \"/content/drive/MyDrive/Data Analysis Bootcamp/spotify_data.csv\"\n",
        "df = spark.read.csv(csv_path, header=True, quote= \"\\\"\", escape=\"\\\"\")"
      ],
      "metadata": {
        "id": "vRbCB2GvVC5q"
      },
      "execution_count": 10,
      "outputs": []
    },
    {
      "cell_type": "code",
      "source": [
        "df.show()"
      ],
      "metadata": {
        "id": "09mA1BsgVCzv",
        "colab": {
          "base_uri": "https://localhost:8080/"
        },
        "outputId": "c744d6f8-fd43-4adc-8edf-892ffba71770"
      },
      "execution_count": 11,
      "outputs": [
        {
          "output_type": "stream",
          "name": "stdout",
          "text": [
            "+---+--------------------+--------------------+--------------------+----------+----+--------+------------+------+---+--------+----+-----------+------------+----------------+--------+-------+-------+-----------+--------------+\n",
            "|_c0|         artist_name|          track_name|            track_id|popularity|year|   genre|danceability|energy|key|loudness|mode|speechiness|acousticness|instrumentalness|liveness|valence|  tempo|duration_ms|time_signature|\n",
            "+---+--------------------+--------------------+--------------------+----------+----+--------+------------+------+---+--------+----+-----------+------------+----------------+--------+-------+-------+-----------+--------------+\n",
            "|  0|          Jason Mraz|     I Won't Give Up|53QF56cjZA9RTuuMZ...|        68|2012|acoustic|       0.483| 0.303|  4| -10.058|   1|     0.0429|       0.694|             0.0|   0.115|  0.139|133.406|     240166|             3|\n",
            "|  1|          Jason Mraz|    93 Million Miles|1s8tP3jP4GZcyHDsj...|        50|2012|acoustic|       0.572| 0.454|  3| -10.286|   1|     0.0258|       0.477|        1.37e-05|  0.0974|  0.515|140.182|     216387|             4|\n",
            "|  2|       Joshua Hyslop|    Do Not Let Me Go|7BRCa8MPiyuvr2VU3...|        57|2012|acoustic|       0.409| 0.234|  3| -13.711|   1|     0.0323|       0.338|           5e-05|  0.0895|  0.145|139.832|     158960|             4|\n",
            "|  3|        Boyce Avenue|            Fast Car|63wsZUhUZLlh1Osyr...|        58|2012|acoustic|       0.392| 0.251| 10|  -9.845|   1|     0.0363|       0.807|             0.0|  0.0797|  0.508|204.961|     304293|             4|\n",
            "|  4|        Andrew Belle|    Sky's Still Blue|6nXIYClvJAfi6ujLi...|        54|2012|acoustic|        0.43| 0.791|  6|  -5.419|   0|     0.0302|      0.0726|          0.0193|    0.11|  0.217|171.864|     244320|             4|\n",
            "|  5|       Chris Smither|       What They Say|24NvptbNKGs6sPy1V...|        48|2012|acoustic|       0.566|  0.57|  2|   -6.42|   1|     0.0329|       0.688|        1.73e-06|  0.0943|   0.96| 83.403|     166240|             4|\n",
            "|  6|          Matt Wertz|Walking in a Wint...|0BP7hSvLAG3URGrEv...|        48|2012|acoustic|       0.575| 0.606|  9|  -8.197|   1|       0.03|      0.0119|             0.0|  0.0675|  0.364|121.083|     152307|             4|\n",
            "|  7|Green River Ordin...|       Dancing Shoes|3Y6BuzQCg9p4yH347...|        45|2012|acoustic|       0.586| 0.423|  7|  -7.459|   1|     0.0261|       0.252|        5.83e-06|  0.0976|  0.318|138.133|     232373|             4|\n",
            "|  8|          Jason Mraz|Living in the Moment|3ce7k1L4EkZppZPz1...|        44|2012|acoustic|        0.65| 0.628|  7|   -7.16|   1|     0.0232|      0.0483|             0.0|   0.119|    0.7| 84.141|     235080|             4|\n",
            "|  9|        Boyce Avenue|              Heaven|2EKxmYmUdAVXlaHCn...|        58|2012|acoustic|       0.619|  0.28|  8| -10.238|   0|     0.0317|        0.73|             0.0|   0.103|  0.292|129.948|     250063|             4|\n",
            "| 10|   Tristan Prettyman|        Say Anything|1RjEDlhTp2iJXWPdL...|        45|2012|acoustic|       0.657|  0.43|  1| -10.202|   1|     0.0314|       0.534|        0.000238|    0.12|  0.335| 91.967|     236379|             4|\n",
            "| 11|          David Gray|Money (That's Wha...|38sSJ12azM6Mic7aj...|        45|2012|acoustic|       0.655| 0.692|  5|  -6.217|   1|     0.0326|       0.568|        2.34e-05|   0.119|  0.547|121.455|     234270|             4|\n",
            "| 12|        Boyce Avenue|    Someone Like You|6VtoP2sJt5oCmPOQI...|        55|2012|acoustic|       0.439| 0.207|  1|  -9.573|   1|     0.0297|       0.608|             0.0|   0.186|  0.264|136.514|     276147|             4|\n",
            "| 13|          Jason Mraz|    The Woman I Love|0AYG9AcwqEeqgAw3O...|        40|2012|acoustic|       0.591| 0.647|  4|   -8.34|   1|     0.0277|       0.067|        6.57e-05|   0.231|  0.678|  79.68|     190752|             4|\n",
            "| 14|        Eddie Vedder| I Shall Be Released|0J1iFISejodqBIy0Q...|        44|2012|acoustic|        0.45| 0.713|  6|  -7.503|   0|     0.0386|       0.157|             0.0|   0.992|   0.36|  74.71|     283587|             4|\n",
            "| 15|      The Civil Wars|        Kingdom Come|1IZc5f9ulw7Ge2eOp...|        41|2012|acoustic|       0.497| 0.277|  4| -11.382|   0|     0.0373|       0.846|        4.77e-06|   0.111|  0.179| 81.367|     222560|             4|\n",
            "| 16|     Gabrielle Aplin|                Home|20kpTTSvI4ok6Gm1u...|        57|2012|acoustic|       0.439| 0.265|  2|  -10.72|   1|     0.0343|       0.736|             0.0|   0.093|  0.382|140.494|     247002|             4|\n",
            "| 17|          Harley Poe|Transvestities Ca...|46KacVTVWMkyXS0jf...|        39|2012|acoustic|       0.499| 0.614|  7|  -8.175|   1|     0.0621|       0.151|        3.52e-06|  0.0555|  0.605| 89.038|     276973|             4|\n",
            "| 18|            Ron Pope|   One Grain of Sand|3yqJGfvXtPZLiWHVe...|        49|2012|acoustic|       0.713| 0.824|  3|  -7.168|   1|     0.0393|       0.106|        8.03e-05|    0.13|  0.696|120.028|     207240|             4|\n",
            "| 19|      Sara Bareilles|Once Upon Another...|7KG9zriC6iP8F1CNi...|        39|2012|acoustic|       0.275| 0.216|  2| -14.504|   1|     0.0493|       0.896|             0.0|   0.231| 0.0551| 95.421|     324333|             5|\n",
            "+---+--------------------+--------------------+--------------------+----------+----+--------+------------+------+---+--------+----+-----------+------------+----------------+--------+-------+-------+-----------+--------------+\n",
            "only showing top 20 rows\n",
            "\n"
          ]
        }
      ]
    },
    {
      "cell_type": "code",
      "source": [
        "cols = ['popularity','year','genre','danceability','energy','loudness','mode','speechiness','acousticness','instrumentalness','liveness','valence','tempo','duration_ms']\n",
        "cleaned_df = df.select(cols)\n",
        "cleaned_df.show()"
      ],
      "metadata": {
        "id": "GQ8whElnVCs1",
        "colab": {
          "base_uri": "https://localhost:8080/"
        },
        "outputId": "5cd4ee37-52ba-446d-e59d-da072f77553f"
      },
      "execution_count": 12,
      "outputs": [
        {
          "output_type": "stream",
          "name": "stdout",
          "text": [
            "+----------+----+--------+------------+------+--------+----+-----------+------------+----------------+--------+-------+-------+-----------+\n",
            "|popularity|year|   genre|danceability|energy|loudness|mode|speechiness|acousticness|instrumentalness|liveness|valence|  tempo|duration_ms|\n",
            "+----------+----+--------+------------+------+--------+----+-----------+------------+----------------+--------+-------+-------+-----------+\n",
            "|        68|2012|acoustic|       0.483| 0.303| -10.058|   1|     0.0429|       0.694|             0.0|   0.115|  0.139|133.406|     240166|\n",
            "|        50|2012|acoustic|       0.572| 0.454| -10.286|   1|     0.0258|       0.477|        1.37e-05|  0.0974|  0.515|140.182|     216387|\n",
            "|        57|2012|acoustic|       0.409| 0.234| -13.711|   1|     0.0323|       0.338|           5e-05|  0.0895|  0.145|139.832|     158960|\n",
            "|        58|2012|acoustic|       0.392| 0.251|  -9.845|   1|     0.0363|       0.807|             0.0|  0.0797|  0.508|204.961|     304293|\n",
            "|        54|2012|acoustic|        0.43| 0.791|  -5.419|   0|     0.0302|      0.0726|          0.0193|    0.11|  0.217|171.864|     244320|\n",
            "|        48|2012|acoustic|       0.566|  0.57|   -6.42|   1|     0.0329|       0.688|        1.73e-06|  0.0943|   0.96| 83.403|     166240|\n",
            "|        48|2012|acoustic|       0.575| 0.606|  -8.197|   1|       0.03|      0.0119|             0.0|  0.0675|  0.364|121.083|     152307|\n",
            "|        45|2012|acoustic|       0.586| 0.423|  -7.459|   1|     0.0261|       0.252|        5.83e-06|  0.0976|  0.318|138.133|     232373|\n",
            "|        44|2012|acoustic|        0.65| 0.628|   -7.16|   1|     0.0232|      0.0483|             0.0|   0.119|    0.7| 84.141|     235080|\n",
            "|        58|2012|acoustic|       0.619|  0.28| -10.238|   0|     0.0317|        0.73|             0.0|   0.103|  0.292|129.948|     250063|\n",
            "|        45|2012|acoustic|       0.657|  0.43| -10.202|   1|     0.0314|       0.534|        0.000238|    0.12|  0.335| 91.967|     236379|\n",
            "|        45|2012|acoustic|       0.655| 0.692|  -6.217|   1|     0.0326|       0.568|        2.34e-05|   0.119|  0.547|121.455|     234270|\n",
            "|        55|2012|acoustic|       0.439| 0.207|  -9.573|   1|     0.0297|       0.608|             0.0|   0.186|  0.264|136.514|     276147|\n",
            "|        40|2012|acoustic|       0.591| 0.647|   -8.34|   1|     0.0277|       0.067|        6.57e-05|   0.231|  0.678|  79.68|     190752|\n",
            "|        44|2012|acoustic|        0.45| 0.713|  -7.503|   0|     0.0386|       0.157|             0.0|   0.992|   0.36|  74.71|     283587|\n",
            "|        41|2012|acoustic|       0.497| 0.277| -11.382|   0|     0.0373|       0.846|        4.77e-06|   0.111|  0.179| 81.367|     222560|\n",
            "|        57|2012|acoustic|       0.439| 0.265|  -10.72|   1|     0.0343|       0.736|             0.0|   0.093|  0.382|140.494|     247002|\n",
            "|        39|2012|acoustic|       0.499| 0.614|  -8.175|   1|     0.0621|       0.151|        3.52e-06|  0.0555|  0.605| 89.038|     276973|\n",
            "|        49|2012|acoustic|       0.713| 0.824|  -7.168|   1|     0.0393|       0.106|        8.03e-05|    0.13|  0.696|120.028|     207240|\n",
            "|        39|2012|acoustic|       0.275| 0.216| -14.504|   1|     0.0493|       0.896|             0.0|   0.231| 0.0551| 95.421|     324333|\n",
            "+----------+----+--------+------------+------+--------+----+-----------+------------+----------------+--------+-------+-------+-----------+\n",
            "only showing top 20 rows\n",
            "\n"
          ]
        }
      ]
    },
    {
      "cell_type": "code",
      "source": [
        "clean_df=cleaned_df.toPandas()"
      ],
      "metadata": {
        "id": "lbe3lcYjdJeJ"
      },
      "execution_count": 13,
      "outputs": []
    },
    {
      "cell_type": "code",
      "source": [
        "df = pd.DataFrame(clean_df)\n",
        "df = df.astype({\"popularity\":\"int\", \"year\":\"int\", \"danceability\":\"float\", \"energy\":\"float\", \"loudness\":\"float\", \"mode\":\"int\",\n",
        "                \"speechiness\":\"float\", \"acousticness\":\"float\", \"instrumentalness\":\"float\", \"liveness\":\"float\", \"valence\":\"float\",\n",
        "                \"tempo\":\"float\", \"duration_ms\":\"int\"})"
      ],
      "metadata": {
        "id": "eH2f8bdrh0gh"
      },
      "execution_count": 14,
      "outputs": []
    },
    {
      "cell_type": "markdown",
      "source": [
        "Machine Learning"
      ],
      "metadata": {
        "id": "09_HL-6jYGAs"
      }
    },
    {
      "cell_type": "code",
      "source": [
        "df.dtypes"
      ],
      "metadata": {
        "id": "pU_rtVwcFja3",
        "colab": {
          "base_uri": "https://localhost:8080/"
        },
        "outputId": "d05ccb9a-3a00-474e-9819-1949a14d7ae9"
      },
      "execution_count": 15,
      "outputs": [
        {
          "output_type": "execute_result",
          "data": {
            "text/plain": [
              "popularity            int64\n",
              "year                  int64\n",
              "genre                object\n",
              "danceability        float64\n",
              "energy              float64\n",
              "loudness            float64\n",
              "mode                  int64\n",
              "speechiness         float64\n",
              "acousticness        float64\n",
              "instrumentalness    float64\n",
              "liveness            float64\n",
              "valence             float64\n",
              "tempo               float64\n",
              "duration_ms           int64\n",
              "dtype: object"
            ]
          },
          "metadata": {},
          "execution_count": 15
        }
      ]
    },
    {
      "cell_type": "code",
      "source": [
        "df=pd.get_dummies(df)"
      ],
      "metadata": {
        "id": "WJoi6-96cFLl"
      },
      "execution_count": 16,
      "outputs": []
    },
    {
      "cell_type": "code",
      "source": [
        "y=df['popularity'].values"
      ],
      "metadata": {
        "id": "gnfcvHv4bjom"
      },
      "execution_count": 17,
      "outputs": []
    },
    {
      "cell_type": "code",
      "source": [
        "x=df.drop('popularity',1).values"
      ],
      "metadata": {
        "id": "5G3njKiSYZiP",
        "colab": {
          "base_uri": "https://localhost:8080/"
        },
        "outputId": "5063eb6d-84f1-45eb-85bc-e924cc5a4974"
      },
      "execution_count": 18,
      "outputs": [
        {
          "output_type": "stream",
          "name": "stderr",
          "text": [
            "<ipython-input-18-300b452bd692>:1: FutureWarning: In a future version of pandas all arguments of DataFrame.drop except for the argument 'labels' will be keyword-only.\n",
            "  x=df.drop('popularity',1).values\n"
          ]
        }
      ]
    },
    {
      "cell_type": "code",
      "source": [
        "popularity_counts = df['popularity'].value_counts()\n",
        "popularity_counts"
      ],
      "metadata": {
        "id": "6CUepf9VFRd9",
        "colab": {
          "base_uri": "https://localhost:8080/"
        },
        "outputId": "761ac1ac-ae26-434a-b89f-b068d383409e"
      },
      "execution_count": 19,
      "outputs": [
        {
          "output_type": "execute_result",
          "data": {
            "text/plain": [
              "0      158391\n",
              "1       39820\n",
              "2       31247\n",
              "8       30322\n",
              "9       29249\n",
              "        ...  \n",
              "93          3\n",
              "94          1\n",
              "96          1\n",
              "100         1\n",
              "95          1\n",
              "Name: popularity, Length: 98, dtype: int64"
            ]
          },
          "metadata": {},
          "execution_count": 19
        }
      ]
    },
    {
      "cell_type": "code",
      "source": [
        "# Choose a cutoff value and create a list of classifications to be replaced\n",
        "# use the variable name `classifications_to_replace`\n",
        "classifications_to_replace= list(popularity_counts[popularity_counts<30000].index)\n",
        "# Replace in dataframe\n",
        "for cls in classifications_to_replace:\n",
        "    df['popularity'] = df['popularity'].replace(cls,\"Other\")\n",
        "# Check to make sure binning was successful\n",
        "df['popularity'].value_counts()"
      ],
      "metadata": {
        "colab": {
          "base_uri": "https://localhost:8080/"
        },
        "id": "zTUnAyKHr9Uw",
        "outputId": "e29dca34-d232-4b40-bec8-9df1e2f72319"
      },
      "execution_count": 20,
      "outputs": [
        {
          "output_type": "execute_result",
          "data": {
            "text/plain": [
              "Other    899984\n",
              "0        158391\n",
              "1         39820\n",
              "2         31247\n",
              "8         30322\n",
              "Name: popularity, dtype: int64"
            ]
          },
          "metadata": {},
          "execution_count": 20
        }
      ]
    },
    {
      "cell_type": "code",
      "source": [
        "x_train, x_test, y_train, y_test = train_test_split(x,y, test_size=0.2)"
      ],
      "metadata": {
        "id": "Ar9Nf0CQZI0F"
      },
      "execution_count": 21,
      "outputs": []
    },
    {
      "cell_type": "code",
      "source": [
        "# Create a StandardScaler instances\n",
        "scaler = StandardScaler()\n",
        "\n",
        "# Fit the StandardScaler\n",
        "x_scaler = scaler.fit(x_train)\n",
        "\n",
        "# Scale the data\n",
        "x_train_scaled = x_scaler.transform(x_train)\n",
        "x_test_scaled = x_scaler.transform(x_test)"
      ],
      "metadata": {
        "id": "8Al0qeFRsJ-F"
      },
      "execution_count": 22,
      "outputs": []
    },
    {
      "cell_type": "code",
      "source": [
        "number_input_features = len(x_train[0])\n",
        "hidden_nodes_layer1 = 128\n",
        "hidden_nodes_layer2 = 64\n",
        "hidden_nodes_layer3 = 32\n",
        "nn = tf.keras.models.Sequential()\n",
        "nn.add(tf.keras.layers.Dense(units=hidden_nodes_layer1, input_dim=number_input_features, activation=\"relu\"))\n",
        "\n",
        "nn.add(tf.keras.layers.Dense(units=hidden_nodes_layer2, activation=\"relu\"))\n",
        "\n",
        "nn.add(tf.keras.layers.Dense(units=hidden_nodes_layer3, activation=\"relu\"))\n",
        "\n",
        "nn.add(tf.keras.layers.Dense(units=1, activation=\"linear\"))\n",
        "nn.compile(loss=\"mean_squared_error\", optimizer=\"adam\", metrics=[\"accuracy\"])\n",
        "# Training the model with Early Stopping\n",
        "\n",
        "fit_model = nn.fit(\n",
        "    x_train_scaled,\n",
        "    y_train,\n",
        "    epochs=100\n",
        ")"
      ],
      "metadata": {
        "colab": {
          "base_uri": "https://localhost:8080/"
        },
        "id": "gTIwJvIv4llV",
        "outputId": "eba26194-82c2-4647-fb5a-5d89a31a1f33"
      },
      "execution_count": 23,
      "outputs": [
        {
          "output_type": "stream",
          "name": "stdout",
          "text": [
            "Epoch 1/100\n",
            "28995/28995 [==============================] - 94s 3ms/step - loss: 97.5162 - accuracy: 0.0371\n",
            "Epoch 2/100\n",
            "28995/28995 [==============================] - 74s 3ms/step - loss: 92.6602 - accuracy: 0.0378\n",
            "Epoch 3/100\n",
            "28995/28995 [==============================] - 73s 3ms/step - loss: 91.1617 - accuracy: 0.0370\n",
            "Epoch 4/100\n",
            "28995/28995 [==============================] - 73s 3ms/step - loss: 90.1278 - accuracy: 0.0365\n",
            "Epoch 5/100\n",
            "28995/28995 [==============================] - 73s 3ms/step - loss: 89.5026 - accuracy: 0.0375\n",
            "Epoch 6/100\n",
            "28995/28995 [==============================] - 73s 3ms/step - loss: 88.9563 - accuracy: 0.0377\n",
            "Epoch 7/100\n",
            "28995/28995 [==============================] - 72s 2ms/step - loss: 88.5851 - accuracy: 0.0379\n",
            "Epoch 8/100\n",
            "28995/28995 [==============================] - 71s 2ms/step - loss: 88.1324 - accuracy: 0.0382\n",
            "Epoch 9/100\n",
            "28995/28995 [==============================] - 72s 2ms/step - loss: 87.7943 - accuracy: 0.0384\n",
            "Epoch 10/100\n",
            "28995/28995 [==============================] - 71s 2ms/step - loss: 87.4657 - accuracy: 0.0387\n",
            "Epoch 11/100\n",
            "28995/28995 [==============================] - 71s 2ms/step - loss: 87.3086 - accuracy: 0.0388\n",
            "Epoch 12/100\n",
            "28995/28995 [==============================] - 70s 2ms/step - loss: 87.0883 - accuracy: 0.0389\n",
            "Epoch 13/100\n",
            "28995/28995 [==============================] - 77s 3ms/step - loss: 86.8735 - accuracy: 0.0391\n",
            "Epoch 14/100\n",
            "28995/28995 [==============================] - 73s 3ms/step - loss: 86.6883 - accuracy: 0.0391\n",
            "Epoch 15/100\n",
            "28995/28995 [==============================] - 69s 2ms/step - loss: 86.5168 - accuracy: 0.0393\n",
            "Epoch 16/100\n",
            "28995/28995 [==============================] - 73s 3ms/step - loss: 86.3887 - accuracy: 0.0393\n",
            "Epoch 17/100\n",
            "28995/28995 [==============================] - 75s 3ms/step - loss: 86.1791 - accuracy: 0.0396\n",
            "Epoch 18/100\n",
            "28995/28995 [==============================] - 73s 3ms/step - loss: 86.1188 - accuracy: 0.0395\n",
            "Epoch 19/100\n",
            "28995/28995 [==============================] - 73s 3ms/step - loss: 86.0127 - accuracy: 0.0397\n",
            "Epoch 20/100\n",
            "28995/28995 [==============================] - 73s 3ms/step - loss: 85.8772 - accuracy: 0.0399\n",
            "Epoch 21/100\n",
            "28995/28995 [==============================] - 75s 3ms/step - loss: 85.7777 - accuracy: 0.0400\n",
            "Epoch 22/100\n",
            "28995/28995 [==============================] - 73s 3ms/step - loss: 85.6686 - accuracy: 0.0400\n",
            "Epoch 23/100\n",
            "28995/28995 [==============================] - 72s 2ms/step - loss: 85.6271 - accuracy: 0.0402\n",
            "Epoch 24/100\n",
            "28995/28995 [==============================] - 75s 3ms/step - loss: 85.5054 - accuracy: 0.0401\n",
            "Epoch 25/100\n",
            "28995/28995 [==============================] - 75s 3ms/step - loss: 85.6179 - accuracy: 0.0402\n",
            "Epoch 26/100\n",
            "28995/28995 [==============================] - 73s 3ms/step - loss: 85.3803 - accuracy: 0.0401\n",
            "Epoch 27/100\n",
            "28995/28995 [==============================] - 68s 2ms/step - loss: 85.3357 - accuracy: 0.0401\n",
            "Epoch 28/100\n",
            "28995/28995 [==============================] - 70s 2ms/step - loss: 85.3052 - accuracy: 0.0404\n",
            "Epoch 29/100\n",
            "28995/28995 [==============================] - 71s 2ms/step - loss: 85.1693 - accuracy: 0.0404\n",
            "Epoch 30/100\n",
            "28995/28995 [==============================] - 72s 2ms/step - loss: 85.0847 - accuracy: 0.0404\n",
            "Epoch 31/100\n",
            "28995/28995 [==============================] - 73s 3ms/step - loss: 85.1114 - accuracy: 0.0403\n",
            "Epoch 32/100\n",
            "28995/28995 [==============================] - 78s 3ms/step - loss: 85.0783 - accuracy: 0.0402\n",
            "Epoch 33/100\n",
            "28995/28995 [==============================] - 75s 3ms/step - loss: 84.9715 - accuracy: 0.0406\n",
            "Epoch 34/100\n",
            "28995/28995 [==============================] - 72s 2ms/step - loss: 84.9932 - accuracy: 0.0404\n",
            "Epoch 35/100\n",
            "28995/28995 [==============================] - 71s 2ms/step - loss: 84.9018 - accuracy: 0.0405\n",
            "Epoch 36/100\n",
            "28995/28995 [==============================] - 70s 2ms/step - loss: 84.8055 - accuracy: 0.0405\n",
            "Epoch 37/100\n",
            "28995/28995 [==============================] - 76s 3ms/step - loss: 84.7651 - accuracy: 0.0403\n",
            "Epoch 38/100\n",
            "28995/28995 [==============================] - 75s 3ms/step - loss: 84.7148 - accuracy: 0.0406\n",
            "Epoch 39/100\n",
            "28995/28995 [==============================] - 76s 3ms/step - loss: 84.6507 - accuracy: 0.0405\n",
            "Epoch 40/100\n",
            "28995/28995 [==============================] - 73s 3ms/step - loss: 84.6087 - accuracy: 0.0404\n",
            "Epoch 41/100\n",
            "28995/28995 [==============================] - 76s 3ms/step - loss: 84.5365 - accuracy: 0.0404\n",
            "Epoch 42/100\n",
            "28995/28995 [==============================] - 82s 3ms/step - loss: 84.5024 - accuracy: 0.0405\n",
            "Epoch 43/100\n",
            "28995/28995 [==============================] - 73s 3ms/step - loss: 84.4100 - accuracy: 0.0405\n",
            "Epoch 44/100\n",
            "28995/28995 [==============================] - 78s 3ms/step - loss: 84.3953 - accuracy: 0.0406\n",
            "Epoch 45/100\n",
            "28995/28995 [==============================] - 76s 3ms/step - loss: 84.3539 - accuracy: 0.0408\n",
            "Epoch 46/100\n",
            "28995/28995 [==============================] - 75s 3ms/step - loss: 84.3618 - accuracy: 0.0408\n",
            "Epoch 47/100\n",
            "28995/28995 [==============================] - 72s 2ms/step - loss: 84.3471 - accuracy: 0.0406\n",
            "Epoch 48/100\n",
            "28995/28995 [==============================] - 70s 2ms/step - loss: 84.2644 - accuracy: 0.0408\n",
            "Epoch 49/100\n",
            "28995/28995 [==============================] - 74s 3ms/step - loss: 84.2233 - accuracy: 0.0408\n",
            "Epoch 50/100\n",
            "28995/28995 [==============================] - 76s 3ms/step - loss: 84.2988 - accuracy: 0.0406\n",
            "Epoch 51/100\n",
            "28995/28995 [==============================] - 73s 3ms/step - loss: 84.2839 - accuracy: 0.0407\n",
            "Epoch 52/100\n",
            "28995/28995 [==============================] - 80s 3ms/step - loss: 84.1357 - accuracy: 0.0408\n",
            "Epoch 53/100\n",
            "28995/28995 [==============================] - 73s 3ms/step - loss: 84.0840 - accuracy: 0.0407\n",
            "Epoch 54/100\n",
            "28995/28995 [==============================] - 77s 3ms/step - loss: 84.0582 - accuracy: 0.0407\n",
            "Epoch 55/100\n",
            "28995/28995 [==============================] - 81s 3ms/step - loss: 84.0059 - accuracy: 0.0408\n",
            "Epoch 56/100\n",
            "28995/28995 [==============================] - 80s 3ms/step - loss: 83.9622 - accuracy: 0.0409\n",
            "Epoch 57/100\n",
            "28995/28995 [==============================] - 87s 3ms/step - loss: 83.9726 - accuracy: 0.0408\n",
            "Epoch 58/100\n",
            "28995/28995 [==============================] - 82s 3ms/step - loss: 83.9219 - accuracy: 0.0409\n",
            "Epoch 59/100\n",
            "28995/28995 [==============================] - 79s 3ms/step - loss: 83.8959 - accuracy: 0.0408\n",
            "Epoch 60/100\n",
            "28995/28995 [==============================] - 74s 3ms/step - loss: 83.8845 - accuracy: 0.0409\n",
            "Epoch 61/100\n",
            "28995/28995 [==============================] - 78s 3ms/step - loss: 83.9307 - accuracy: 0.0409\n",
            "Epoch 62/100\n",
            "28995/28995 [==============================] - 78s 3ms/step - loss: 83.8045 - accuracy: 0.0408\n",
            "Epoch 63/100\n",
            "28995/28995 [==============================] - 72s 2ms/step - loss: 83.7539 - accuracy: 0.0409\n",
            "Epoch 64/100\n",
            "28995/28995 [==============================] - 72s 2ms/step - loss: 83.7312 - accuracy: 0.0409\n",
            "Epoch 65/100\n",
            "28995/28995 [==============================] - 76s 3ms/step - loss: 83.7143 - accuracy: 0.0406\n",
            "Epoch 66/100\n",
            "28995/28995 [==============================] - 82s 3ms/step - loss: 83.7046 - accuracy: 0.0407\n",
            "Epoch 67/100\n",
            "28995/28995 [==============================] - 76s 3ms/step - loss: 83.7422 - accuracy: 0.0409\n",
            "Epoch 68/100\n",
            "28995/28995 [==============================] - 75s 3ms/step - loss: 83.6540 - accuracy: 0.0408\n",
            "Epoch 69/100\n",
            "28995/28995 [==============================] - 77s 3ms/step - loss: 83.6127 - accuracy: 0.0410\n",
            "Epoch 70/100\n",
            "28995/28995 [==============================] - 73s 3ms/step - loss: 83.6392 - accuracy: 0.0409\n",
            "Epoch 71/100\n",
            "28995/28995 [==============================] - 74s 3ms/step - loss: 83.5693 - accuracy: 0.0408\n",
            "Epoch 72/100\n",
            "28995/28995 [==============================] - 76s 3ms/step - loss: 83.5427 - accuracy: 0.0407\n",
            "Epoch 73/100\n",
            "28995/28995 [==============================] - 80s 3ms/step - loss: 83.5227 - accuracy: 0.0408\n",
            "Epoch 74/100\n",
            "28995/28995 [==============================] - 76s 3ms/step - loss: 83.4688 - accuracy: 0.0408\n",
            "Epoch 75/100\n",
            "28995/28995 [==============================] - 76s 3ms/step - loss: 83.4610 - accuracy: 0.0408\n",
            "Epoch 76/100\n",
            "28995/28995 [==============================] - 78s 3ms/step - loss: 83.4718 - accuracy: 0.0409\n",
            "Epoch 77/100\n",
            "28995/28995 [==============================] - 79s 3ms/step - loss: 83.4756 - accuracy: 0.0408\n",
            "Epoch 78/100\n",
            "28995/28995 [==============================] - 79s 3ms/step - loss: 83.4330 - accuracy: 0.0408\n",
            "Epoch 79/100\n",
            "28995/28995 [==============================] - 85s 3ms/step - loss: 83.3886 - accuracy: 0.0408\n",
            "Epoch 80/100\n",
            "28995/28995 [==============================] - 82s 3ms/step - loss: 83.4209 - accuracy: 0.0406\n",
            "Epoch 81/100\n",
            "28995/28995 [==============================] - 74s 3ms/step - loss: 83.3479 - accuracy: 0.0407\n",
            "Epoch 82/100\n",
            "28995/28995 [==============================] - 79s 3ms/step - loss: 83.3435 - accuracy: 0.0406\n",
            "Epoch 83/100\n",
            "28995/28995 [==============================] - 83s 3ms/step - loss: 83.3282 - accuracy: 0.0408\n",
            "Epoch 84/100\n",
            "28995/28995 [==============================] - 84s 3ms/step - loss: 83.3178 - accuracy: 0.0409\n",
            "Epoch 85/100\n",
            "28995/28995 [==============================] - 77s 3ms/step - loss: 83.2551 - accuracy: 0.0406\n",
            "Epoch 86/100\n",
            "28995/28995 [==============================] - 79s 3ms/step - loss: 83.2968 - accuracy: 0.0409\n",
            "Epoch 87/100\n",
            "28995/28995 [==============================] - 84s 3ms/step - loss: 83.2534 - accuracy: 0.0409\n",
            "Epoch 88/100\n",
            "28995/28995 [==============================] - 86s 3ms/step - loss: 83.2848 - accuracy: 0.0408\n",
            "Epoch 89/100\n",
            "28995/28995 [==============================] - 102s 4ms/step - loss: 83.1972 - accuracy: 0.0408\n",
            "Epoch 90/100\n",
            "28995/28995 [==============================] - 109s 4ms/step - loss: 83.2025 - accuracy: 0.0409\n",
            "Epoch 91/100\n",
            "28995/28995 [==============================] - 113s 4ms/step - loss: 83.1928 - accuracy: 0.0406\n",
            "Epoch 92/100\n",
            "28995/28995 [==============================] - 102s 4ms/step - loss: 83.1845 - accuracy: 0.0408\n",
            "Epoch 93/100\n",
            "28995/28995 [==============================] - 82s 3ms/step - loss: 83.1670 - accuracy: 0.0408\n",
            "Epoch 94/100\n",
            "28995/28995 [==============================] - 78s 3ms/step - loss: 83.1303 - accuracy: 0.0409\n",
            "Epoch 95/100\n",
            "28995/28995 [==============================] - 71s 2ms/step - loss: 83.1055 - accuracy: 0.0406\n",
            "Epoch 96/100\n",
            "28995/28995 [==============================] - 70s 2ms/step - loss: 83.1329 - accuracy: 0.0407\n",
            "Epoch 97/100\n",
            "28995/28995 [==============================] - 71s 2ms/step - loss: 83.0596 - accuracy: 0.0408\n",
            "Epoch 98/100\n",
            "28995/28995 [==============================] - 68s 2ms/step - loss: 83.1083 - accuracy: 0.0406\n",
            "Epoch 99/100\n",
            "28995/28995 [==============================] - 70s 2ms/step - loss: 83.0958 - accuracy: 0.0407\n",
            "Epoch 100/100\n",
            "28995/28995 [==============================] - 71s 2ms/step - loss: 83.0428 - accuracy: 0.0407\n"
          ]
        }
      ]
    },
    {
      "cell_type": "code",
      "source": [
        "# Evaluate the model using the test data\n",
        "model_loss, model_accuracy = nn.evaluate(x_test_scaled,y_test,verbose=2)\n",
        "print(f\"Loss: {model_loss}, Accuracy: {model_accuracy}\")"
      ],
      "metadata": {
        "id": "cW6zqDpotOLt",
        "colab": {
          "base_uri": "https://localhost:8080/"
        },
        "outputId": "49c1fc63-f9cc-4c40-9554-a5cd1fbf9255"
      },
      "execution_count": 24,
      "outputs": [
        {
          "output_type": "stream",
          "name": "stdout",
          "text": [
            "7249/7249 - 10s - loss: 85.4784 - accuracy: 0.0498 - 10s/epoch - 1ms/step\n",
            "Loss: 85.47840118408203, Accuracy: 0.0497557707130909\n"
          ]
        }
      ]
    }
  ]
}