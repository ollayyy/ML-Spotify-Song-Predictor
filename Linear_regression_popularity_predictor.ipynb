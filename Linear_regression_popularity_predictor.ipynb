{
  "nbformat": 4,
  "nbformat_minor": 0,
  "metadata": {
    "colab": {
      "provenance": [],
      "gpuType": "T4",
      "include_colab_link": true
    },
    "kernelspec": {
      "name": "python3",
      "display_name": "Python 3"
    },
    "language_info": {
      "name": "python"
    },
    "accelerator": "GPU"
  },
  "cells": [
    {
      "cell_type": "markdown",
      "metadata": {
        "id": "view-in-github",
        "colab_type": "text"
      },
      "source": [
        "<a href=\"https://colab.research.google.com/github/ollayyy/Popularity-Predictor/blob/main/Linear_regression_popularity_predictor.ipynb\" target=\"_parent\"><img src=\"https://colab.research.google.com/assets/colab-badge.svg\" alt=\"Open In Colab\"/></a>"
      ]
    },
    {
      "cell_type": "markdown",
      "source": [
        "Installs and imports"
      ],
      "metadata": {
        "id": "picR46gyYWjb"
      }
    },
    {
      "cell_type": "code",
      "source": [
        "pip install pyspark"
      ],
      "metadata": {
        "colab": {
          "base_uri": "https://localhost:8080/"
        },
        "id": "HZ9HvAdLWPVT",
        "outputId": "7be2a10b-0ef1-4742-c4cf-784e6cb8a07d"
      },
      "execution_count": 1,
      "outputs": [
        {
          "output_type": "stream",
          "name": "stdout",
          "text": [
            "Collecting pyspark\n",
            "  Downloading pyspark-3.4.1.tar.gz (310.8 MB)\n",
            "\u001b[2K     \u001b[90m━━━━━━━━━━━━━━━━━━━━━━━━━━━━━━━━━━━━━━━\u001b[0m \u001b[32m310.8/310.8 MB\u001b[0m \u001b[31m4.6 MB/s\u001b[0m eta \u001b[36m0:00:00\u001b[0m\n",
            "\u001b[?25h  Preparing metadata (setup.py) ... \u001b[?25l\u001b[?25hdone\n",
            "Requirement already satisfied: py4j==0.10.9.7 in /usr/local/lib/python3.10/dist-packages (from pyspark) (0.10.9.7)\n",
            "Building wheels for collected packages: pyspark\n",
            "  Building wheel for pyspark (setup.py) ... \u001b[?25l\u001b[?25hdone\n",
            "  Created wheel for pyspark: filename=pyspark-3.4.1-py2.py3-none-any.whl size=311285388 sha256=1296cce40eb714cfe833165cae5ea11883234412143fe689da1a52094a00f291\n",
            "  Stored in directory: /root/.cache/pip/wheels/0d/77/a3/ff2f74cc9ab41f8f594dabf0579c2a7c6de920d584206e0834\n",
            "Successfully built pyspark\n",
            "Installing collected packages: pyspark\n",
            "Successfully installed pyspark-3.4.1\n"
          ]
        }
      ]
    },
    {
      "cell_type": "code",
      "source": [
        "pip install findspark"
      ],
      "metadata": {
        "colab": {
          "base_uri": "https://localhost:8080/"
        },
        "id": "ae8Ddm0DVqXy",
        "outputId": "0119efe0-fed9-4f7f-c33d-7657f770e9fe"
      },
      "execution_count": 2,
      "outputs": [
        {
          "output_type": "stream",
          "name": "stdout",
          "text": [
            "Collecting findspark\n",
            "  Downloading findspark-2.0.1-py2.py3-none-any.whl (4.4 kB)\n",
            "Installing collected packages: findspark\n",
            "Successfully installed findspark-2.0.1\n"
          ]
        }
      ]
    },
    {
      "cell_type": "code",
      "source": [
        "import findspark\n",
        "findspark.init()\n",
        "import pandas as pd\n",
        "import tensorflow as tf"
      ],
      "metadata": {
        "id": "eypJyzplUd-a"
      },
      "execution_count": 3,
      "outputs": []
    },
    {
      "cell_type": "code",
      "source": [
        "from pyspark.sql import SparkSession\n",
        "from pyspark.sql.functions import col\n",
        "from sklearn.model_selection import train_test_split\n",
        "from sklearn.preprocessing import StandardScaler\n",
        "from sklearn.linear_model import LinearRegression\n",
        "from sklearn.metrics import mean_squared_error"
      ],
      "metadata": {
        "id": "0Ep_-JMZUmr-"
      },
      "execution_count": 4,
      "outputs": []
    },
    {
      "cell_type": "code",
      "source": [
        "from google.colab import drive\n",
        "drive.mount('/content/drive')"
      ],
      "metadata": {
        "colab": {
          "base_uri": "https://localhost:8080/"
        },
        "id": "T7sub_EoWjZi",
        "outputId": "5f9b96ee-ab69-4de8-f6c5-b66d64877826"
      },
      "execution_count": 5,
      "outputs": [
        {
          "output_type": "stream",
          "name": "stdout",
          "text": [
            "Mounted at /content/drive\n"
          ]
        }
      ]
    },
    {
      "cell_type": "markdown",
      "source": [
        "Call in data"
      ],
      "metadata": {
        "id": "QlupQSHsyhq6"
      }
    },
    {
      "cell_type": "code",
      "source": [
        "spark = SparkSession.builder.appName(\"PopularityPredictor\").getOrCreate()"
      ],
      "metadata": {
        "id": "l4fxqMP6VDAd"
      },
      "execution_count": 6,
      "outputs": []
    },
    {
      "cell_type": "code",
      "source": [
        "csv_path = \"/content/drive/MyDrive/Data Analysis Bootcamp/spotify_data.csv\"\n",
        "df = spark.read.csv(csv_path, header=True, quote= \"\\\"\", escape=\"\\\"\")"
      ],
      "metadata": {
        "id": "vRbCB2GvVC5q"
      },
      "execution_count": 7,
      "outputs": []
    },
    {
      "cell_type": "code",
      "source": [
        "df.show()"
      ],
      "metadata": {
        "id": "09mA1BsgVCzv",
        "colab": {
          "base_uri": "https://localhost:8080/"
        },
        "outputId": "9826ee88-c45b-411e-eb32-ed0b0da03171"
      },
      "execution_count": 8,
      "outputs": [
        {
          "output_type": "stream",
          "name": "stdout",
          "text": [
            "+---+--------------------+--------------------+--------------------+----------+----+--------+------------+------+---+--------+----+-----------+------------+----------------+--------+-------+-------+-----------+--------------+\n",
            "|_c0|         artist_name|          track_name|            track_id|popularity|year|   genre|danceability|energy|key|loudness|mode|speechiness|acousticness|instrumentalness|liveness|valence|  tempo|duration_ms|time_signature|\n",
            "+---+--------------------+--------------------+--------------------+----------+----+--------+------------+------+---+--------+----+-----------+------------+----------------+--------+-------+-------+-----------+--------------+\n",
            "|  0|          Jason Mraz|     I Won't Give Up|53QF56cjZA9RTuuMZ...|        68|2012|acoustic|       0.483| 0.303|  4| -10.058|   1|     0.0429|       0.694|             0.0|   0.115|  0.139|133.406|     240166|             3|\n",
            "|  1|          Jason Mraz|    93 Million Miles|1s8tP3jP4GZcyHDsj...|        50|2012|acoustic|       0.572| 0.454|  3| -10.286|   1|     0.0258|       0.477|        1.37e-05|  0.0974|  0.515|140.182|     216387|             4|\n",
            "|  2|       Joshua Hyslop|    Do Not Let Me Go|7BRCa8MPiyuvr2VU3...|        57|2012|acoustic|       0.409| 0.234|  3| -13.711|   1|     0.0323|       0.338|           5e-05|  0.0895|  0.145|139.832|     158960|             4|\n",
            "|  3|        Boyce Avenue|            Fast Car|63wsZUhUZLlh1Osyr...|        58|2012|acoustic|       0.392| 0.251| 10|  -9.845|   1|     0.0363|       0.807|             0.0|  0.0797|  0.508|204.961|     304293|             4|\n",
            "|  4|        Andrew Belle|    Sky's Still Blue|6nXIYClvJAfi6ujLi...|        54|2012|acoustic|        0.43| 0.791|  6|  -5.419|   0|     0.0302|      0.0726|          0.0193|    0.11|  0.217|171.864|     244320|             4|\n",
            "|  5|       Chris Smither|       What They Say|24NvptbNKGs6sPy1V...|        48|2012|acoustic|       0.566|  0.57|  2|   -6.42|   1|     0.0329|       0.688|        1.73e-06|  0.0943|   0.96| 83.403|     166240|             4|\n",
            "|  6|          Matt Wertz|Walking in a Wint...|0BP7hSvLAG3URGrEv...|        48|2012|acoustic|       0.575| 0.606|  9|  -8.197|   1|       0.03|      0.0119|             0.0|  0.0675|  0.364|121.083|     152307|             4|\n",
            "|  7|Green River Ordin...|       Dancing Shoes|3Y6BuzQCg9p4yH347...|        45|2012|acoustic|       0.586| 0.423|  7|  -7.459|   1|     0.0261|       0.252|        5.83e-06|  0.0976|  0.318|138.133|     232373|             4|\n",
            "|  8|          Jason Mraz|Living in the Moment|3ce7k1L4EkZppZPz1...|        44|2012|acoustic|        0.65| 0.628|  7|   -7.16|   1|     0.0232|      0.0483|             0.0|   0.119|    0.7| 84.141|     235080|             4|\n",
            "|  9|        Boyce Avenue|              Heaven|2EKxmYmUdAVXlaHCn...|        58|2012|acoustic|       0.619|  0.28|  8| -10.238|   0|     0.0317|        0.73|             0.0|   0.103|  0.292|129.948|     250063|             4|\n",
            "| 10|   Tristan Prettyman|        Say Anything|1RjEDlhTp2iJXWPdL...|        45|2012|acoustic|       0.657|  0.43|  1| -10.202|   1|     0.0314|       0.534|        0.000238|    0.12|  0.335| 91.967|     236379|             4|\n",
            "| 11|          David Gray|Money (That's Wha...|38sSJ12azM6Mic7aj...|        45|2012|acoustic|       0.655| 0.692|  5|  -6.217|   1|     0.0326|       0.568|        2.34e-05|   0.119|  0.547|121.455|     234270|             4|\n",
            "| 12|        Boyce Avenue|    Someone Like You|6VtoP2sJt5oCmPOQI...|        55|2012|acoustic|       0.439| 0.207|  1|  -9.573|   1|     0.0297|       0.608|             0.0|   0.186|  0.264|136.514|     276147|             4|\n",
            "| 13|          Jason Mraz|    The Woman I Love|0AYG9AcwqEeqgAw3O...|        40|2012|acoustic|       0.591| 0.647|  4|   -8.34|   1|     0.0277|       0.067|        6.57e-05|   0.231|  0.678|  79.68|     190752|             4|\n",
            "| 14|        Eddie Vedder| I Shall Be Released|0J1iFISejodqBIy0Q...|        44|2012|acoustic|        0.45| 0.713|  6|  -7.503|   0|     0.0386|       0.157|             0.0|   0.992|   0.36|  74.71|     283587|             4|\n",
            "| 15|      The Civil Wars|        Kingdom Come|1IZc5f9ulw7Ge2eOp...|        41|2012|acoustic|       0.497| 0.277|  4| -11.382|   0|     0.0373|       0.846|        4.77e-06|   0.111|  0.179| 81.367|     222560|             4|\n",
            "| 16|     Gabrielle Aplin|                Home|20kpTTSvI4ok6Gm1u...|        57|2012|acoustic|       0.439| 0.265|  2|  -10.72|   1|     0.0343|       0.736|             0.0|   0.093|  0.382|140.494|     247002|             4|\n",
            "| 17|          Harley Poe|Transvestities Ca...|46KacVTVWMkyXS0jf...|        39|2012|acoustic|       0.499| 0.614|  7|  -8.175|   1|     0.0621|       0.151|        3.52e-06|  0.0555|  0.605| 89.038|     276973|             4|\n",
            "| 18|            Ron Pope|   One Grain of Sand|3yqJGfvXtPZLiWHVe...|        49|2012|acoustic|       0.713| 0.824|  3|  -7.168|   1|     0.0393|       0.106|        8.03e-05|    0.13|  0.696|120.028|     207240|             4|\n",
            "| 19|      Sara Bareilles|Once Upon Another...|7KG9zriC6iP8F1CNi...|        39|2012|acoustic|       0.275| 0.216|  2| -14.504|   1|     0.0493|       0.896|             0.0|   0.231| 0.0551| 95.421|     324333|             5|\n",
            "+---+--------------------+--------------------+--------------------+----------+----+--------+------------+------+---+--------+----+-----------+------------+----------------+--------+-------+-------+-----------+--------------+\n",
            "only showing top 20 rows\n",
            "\n"
          ]
        }
      ]
    },
    {
      "cell_type": "markdown",
      "source": [
        "Clean Data Columns"
      ],
      "metadata": {
        "id": "iuvyEmuVy3Yy"
      }
    },
    {
      "cell_type": "code",
      "source": [
        "cols = ['popularity','danceability', 'time_signature', 'energy', 'tempo', 'key', 'speechiness', 'acousticness', 'liveness', 'valence', ]\n",
        "cleaned_df = df.select(cols)\n",
        "cleaned_df.show()"
      ],
      "metadata": {
        "id": "GQ8whElnVCs1",
        "colab": {
          "base_uri": "https://localhost:8080/"
        },
        "outputId": "6e965865-a653-4499-eecb-2423e7a58222"
      },
      "execution_count": 9,
      "outputs": [
        {
          "output_type": "stream",
          "name": "stdout",
          "text": [
            "+----------+------------+--------------+------+-------+---+-----------+------------+--------+-------+\n",
            "|popularity|danceability|time_signature|energy|  tempo|key|speechiness|acousticness|liveness|valence|\n",
            "+----------+------------+--------------+------+-------+---+-----------+------------+--------+-------+\n",
            "|        68|       0.483|             3| 0.303|133.406|  4|     0.0429|       0.694|   0.115|  0.139|\n",
            "|        50|       0.572|             4| 0.454|140.182|  3|     0.0258|       0.477|  0.0974|  0.515|\n",
            "|        57|       0.409|             4| 0.234|139.832|  3|     0.0323|       0.338|  0.0895|  0.145|\n",
            "|        58|       0.392|             4| 0.251|204.961| 10|     0.0363|       0.807|  0.0797|  0.508|\n",
            "|        54|        0.43|             4| 0.791|171.864|  6|     0.0302|      0.0726|    0.11|  0.217|\n",
            "|        48|       0.566|             4|  0.57| 83.403|  2|     0.0329|       0.688|  0.0943|   0.96|\n",
            "|        48|       0.575|             4| 0.606|121.083|  9|       0.03|      0.0119|  0.0675|  0.364|\n",
            "|        45|       0.586|             4| 0.423|138.133|  7|     0.0261|       0.252|  0.0976|  0.318|\n",
            "|        44|        0.65|             4| 0.628| 84.141|  7|     0.0232|      0.0483|   0.119|    0.7|\n",
            "|        58|       0.619|             4|  0.28|129.948|  8|     0.0317|        0.73|   0.103|  0.292|\n",
            "|        45|       0.657|             4|  0.43| 91.967|  1|     0.0314|       0.534|    0.12|  0.335|\n",
            "|        45|       0.655|             4| 0.692|121.455|  5|     0.0326|       0.568|   0.119|  0.547|\n",
            "|        55|       0.439|             4| 0.207|136.514|  1|     0.0297|       0.608|   0.186|  0.264|\n",
            "|        40|       0.591|             4| 0.647|  79.68|  4|     0.0277|       0.067|   0.231|  0.678|\n",
            "|        44|        0.45|             4| 0.713|  74.71|  6|     0.0386|       0.157|   0.992|   0.36|\n",
            "|        41|       0.497|             4| 0.277| 81.367|  4|     0.0373|       0.846|   0.111|  0.179|\n",
            "|        57|       0.439|             4| 0.265|140.494|  2|     0.0343|       0.736|   0.093|  0.382|\n",
            "|        39|       0.499|             4| 0.614| 89.038|  7|     0.0621|       0.151|  0.0555|  0.605|\n",
            "|        49|       0.713|             4| 0.824|120.028|  3|     0.0393|       0.106|    0.13|  0.696|\n",
            "|        39|       0.275|             5| 0.216| 95.421|  2|     0.0493|       0.896|   0.231| 0.0551|\n",
            "+----------+------------+--------------+------+-------+---+-----------+------------+--------+-------+\n",
            "only showing top 20 rows\n",
            "\n"
          ]
        }
      ]
    },
    {
      "cell_type": "code",
      "source": [
        "clean_df=cleaned_df.toPandas()"
      ],
      "metadata": {
        "id": "lbe3lcYjdJeJ"
      },
      "execution_count": 10,
      "outputs": []
    },
    {
      "cell_type": "code",
      "source": [
        "df = pd.DataFrame(clean_df)\n",
        "df = df.astype({\"popularity\":\"int\", \"danceability\": \"float\", \"time_signature\":\"int\",\n",
        "                \"energy\":\"float\", \"tempo\":\"float\", \"key\":\"int\", \"speechiness\":\"float\", \"acousticness\":\"float\",\n",
        "                \"liveness\":\"float\", \"valence\": \"float\"})"
      ],
      "metadata": {
        "id": "eH2f8bdrh0gh"
      },
      "execution_count": 11,
      "outputs": []
    },
    {
      "cell_type": "markdown",
      "source": [
        "Machine Learning"
      ],
      "metadata": {
        "id": "09_HL-6jYGAs"
      }
    },
    {
      "cell_type": "code",
      "source": [
        "df.dtypes"
      ],
      "metadata": {
        "id": "pU_rtVwcFja3",
        "colab": {
          "base_uri": "https://localhost:8080/"
        },
        "outputId": "253fa115-1531-4628-97c4-b30780531e5b"
      },
      "execution_count": 12,
      "outputs": [
        {
          "output_type": "execute_result",
          "data": {
            "text/plain": [
              "popularity          int64\n",
              "danceability      float64\n",
              "time_signature      int64\n",
              "energy            float64\n",
              "tempo             float64\n",
              "key                 int64\n",
              "speechiness       float64\n",
              "acousticness      float64\n",
              "liveness          float64\n",
              "valence           float64\n",
              "dtype: object"
            ]
          },
          "metadata": {},
          "execution_count": 12
        }
      ]
    },
    {
      "cell_type": "code",
      "source": [
        "df=pd.get_dummies(df)"
      ],
      "metadata": {
        "id": "WJoi6-96cFLl"
      },
      "execution_count": 13,
      "outputs": []
    },
    {
      "cell_type": "code",
      "source": [
        "y=df['popularity'].values"
      ],
      "metadata": {
        "id": "gnfcvHv4bjom"
      },
      "execution_count": 14,
      "outputs": []
    },
    {
      "cell_type": "code",
      "source": [
        "x=df.drop('popularity',1).values"
      ],
      "metadata": {
        "id": "5G3njKiSYZiP",
        "colab": {
          "base_uri": "https://localhost:8080/"
        },
        "outputId": "02527efb-4f3a-4f45-ecc6-ef51a4242b18"
      },
      "execution_count": 15,
      "outputs": [
        {
          "output_type": "stream",
          "name": "stderr",
          "text": [
            "<ipython-input-15-300b452bd692>:1: FutureWarning: In a future version of pandas all arguments of DataFrame.drop except for the argument 'labels' will be keyword-only.\n",
            "  x=df.drop('popularity',1).values\n"
          ]
        }
      ]
    },
    {
      "cell_type": "code",
      "source": [
        "popularity_counts = df['popularity'].value_counts()\n",
        "popularity_counts"
      ],
      "metadata": {
        "id": "6CUepf9VFRd9",
        "colab": {
          "base_uri": "https://localhost:8080/"
        },
        "outputId": "d9210368-94a6-4d80-8721-9c6e334d608a"
      },
      "execution_count": 16,
      "outputs": [
        {
          "output_type": "execute_result",
          "data": {
            "text/plain": [
              "0      158391\n",
              "1       39820\n",
              "2       31247\n",
              "8       30322\n",
              "9       29249\n",
              "        ...  \n",
              "93          3\n",
              "94          1\n",
              "96          1\n",
              "100         1\n",
              "95          1\n",
              "Name: popularity, Length: 98, dtype: int64"
            ]
          },
          "metadata": {},
          "execution_count": 16
        }
      ]
    },
    {
      "cell_type": "code",
      "source": [
        "# Choose a cutoff value and create a list of classifications to be replaced\n",
        "# use the variable name `classifications_to_replace`\n",
        "classifications_to_replace= list(popularity_counts[popularity_counts<25000].index)\n",
        "# Replace in dataframe\n",
        "for cls in classifications_to_replace:\n",
        "    df['popularity'] = df['popularity'].replace(cls,\"Other\")\n",
        "# Check to make sure binning was successful\n",
        "df['popularity'].value_counts()"
      ],
      "metadata": {
        "colab": {
          "base_uri": "https://localhost:8080/"
        },
        "id": "zTUnAyKHr9Uw",
        "outputId": "7db13cae-8367-4da5-8736-2b8eecc6e3f3"
      },
      "execution_count": 17,
      "outputs": [
        {
          "output_type": "execute_result",
          "data": {
            "text/plain": [
              "Other    547760\n",
              "0        158391\n",
              "1         39820\n",
              "2         31247\n",
              "8         30322\n",
              "9         29249\n",
              "7         28697\n",
              "10        28600\n",
              "3         28592\n",
              "11        28325\n",
              "6         27628\n",
              "12        27297\n",
              "13        26301\n",
              "4         25929\n",
              "14        25683\n",
              "15        25466\n",
              "5         25289\n",
              "16        25168\n",
              "Name: popularity, dtype: int64"
            ]
          },
          "metadata": {},
          "execution_count": 17
        }
      ]
    },
    {
      "cell_type": "code",
      "source": [
        "x_train, x_test, y_train, y_test = train_test_split(x,y, test_size=0.2)"
      ],
      "metadata": {
        "id": "Ar9Nf0CQZI0F"
      },
      "execution_count": 18,
      "outputs": []
    },
    {
      "cell_type": "code",
      "source": [
        "# Create a StandardScaler instances\n",
        "scaler = StandardScaler()\n",
        "\n",
        "# Fit the StandardScaler\n",
        "x_scaler = scaler.fit(x_train)\n",
        "\n",
        "# Scale the data\n",
        "x_train_scaled = x_scaler.transform(x_train)\n",
        "x_test_scaled = x_scaler.transform(x_test)"
      ],
      "metadata": {
        "id": "8Al0qeFRsJ-F"
      },
      "execution_count": 19,
      "outputs": []
    },
    {
      "cell_type": "code",
      "source": [
        "number_input_features = len(x_train[0])\n",
        "hidden_nodes_layer1 = 128\n",
        "hidden_nodes_layer2 = 64\n",
        "hidden_nodes_layer3 = 32\n",
        "nn = tf.keras.models.Sequential()\n",
        "nn.add(tf.keras.layers.Dense(units=hidden_nodes_layer1, input_dim=number_input_features, activation=\"relu\"))\n",
        "\n",
        "nn.add(tf.keras.layers.Dense(units=hidden_nodes_layer2, activation=\"relu\"))\n",
        "\n",
        "nn.add(tf.keras.layers.Dense(units=hidden_nodes_layer3, activation=\"relu\"))\n",
        "\n",
        "nn.add(tf.keras.layers.Dense(units=1))\n",
        "\n",
        "# Linear activation for regression\n",
        "nn.compile(loss=\"mean_absolute_error\", optimizer=\"adam\")\n",
        "\n",
        "fit_model = nn.fit(\n",
        "    x_train_scaled,\n",
        "    y_train,\n",
        "    epochs=100\n",
        ")"
      ],
      "metadata": {
        "colab": {
          "base_uri": "https://localhost:8080/"
        },
        "id": "gTIwJvIv4llV",
        "outputId": "513e835c-fa56-444b-e4c9-f4990df585be"
      },
      "execution_count": 20,
      "outputs": [
        {
          "output_type": "stream",
          "name": "stdout",
          "text": [
            "Epoch 1/100\n",
            "28995/28995 [==============================] - 128s 4ms/step - loss: 12.2250\n",
            "Epoch 2/100\n",
            "28995/28995 [==============================] - 111s 4ms/step - loss: 12.0628\n",
            "Epoch 3/100\n",
            "28995/28995 [==============================] - 109s 4ms/step - loss: 12.0213\n",
            "Epoch 4/100\n",
            "28995/28995 [==============================] - 109s 4ms/step - loss: 11.9930\n",
            "Epoch 5/100\n",
            "28995/28995 [==============================] - 109s 4ms/step - loss: 11.9721\n",
            "Epoch 6/100\n",
            "28995/28995 [==============================] - 107s 4ms/step - loss: 11.9568\n",
            "Epoch 7/100\n",
            "28995/28995 [==============================] - 106s 4ms/step - loss: 11.9464\n",
            "Epoch 8/100\n",
            "28995/28995 [==============================] - 109s 4ms/step - loss: 11.9358\n",
            "Epoch 9/100\n",
            "28995/28995 [==============================] - 108s 4ms/step - loss: 11.9267\n",
            "Epoch 10/100\n",
            "28995/28995 [==============================] - 110s 4ms/step - loss: 11.9184\n",
            "Epoch 11/100\n",
            "28995/28995 [==============================] - 107s 4ms/step - loss: 11.9129\n",
            "Epoch 12/100\n",
            "28995/28995 [==============================] - 106s 4ms/step - loss: 11.9067\n",
            "Epoch 13/100\n",
            "28995/28995 [==============================] - 104s 4ms/step - loss: 11.9025\n",
            "Epoch 14/100\n",
            "28995/28995 [==============================] - 106s 4ms/step - loss: 11.8969\n",
            "Epoch 15/100\n",
            "28995/28995 [==============================] - 103s 4ms/step - loss: 11.8912\n",
            "Epoch 16/100\n",
            "28995/28995 [==============================] - 105s 4ms/step - loss: 11.8865\n",
            "Epoch 17/100\n",
            "28995/28995 [==============================] - 104s 4ms/step - loss: 11.8833\n",
            "Epoch 18/100\n",
            "28995/28995 [==============================] - 105s 4ms/step - loss: 11.8786\n",
            "Epoch 19/100\n",
            "28995/28995 [==============================] - 103s 4ms/step - loss: 11.8758\n",
            "Epoch 20/100\n",
            "28995/28995 [==============================] - 105s 4ms/step - loss: 11.8716\n",
            "Epoch 21/100\n",
            "28995/28995 [==============================] - 104s 4ms/step - loss: 11.8679\n",
            "Epoch 22/100\n",
            "28995/28995 [==============================] - 105s 4ms/step - loss: 11.8655\n",
            "Epoch 23/100\n",
            "28995/28995 [==============================] - 104s 4ms/step - loss: 11.8625\n",
            "Epoch 24/100\n",
            "28995/28995 [==============================] - 108s 4ms/step - loss: 11.8567\n",
            "Epoch 25/100\n",
            "28995/28995 [==============================] - 104s 4ms/step - loss: 11.8551\n",
            "Epoch 26/100\n",
            "28995/28995 [==============================] - 106s 4ms/step - loss: 11.8534\n",
            "Epoch 27/100\n",
            "28995/28995 [==============================] - 105s 4ms/step - loss: 11.8514\n",
            "Epoch 28/100\n",
            "28995/28995 [==============================] - 107s 4ms/step - loss: 11.8493\n",
            "Epoch 29/100\n",
            "28995/28995 [==============================] - 104s 4ms/step - loss: 11.8470\n",
            "Epoch 30/100\n",
            "28995/28995 [==============================] - 106s 4ms/step - loss: 11.8451\n",
            "Epoch 31/100\n",
            "28995/28995 [==============================] - 104s 4ms/step - loss: 11.8413\n",
            "Epoch 32/100\n",
            "28995/28995 [==============================] - 106s 4ms/step - loss: 11.8410\n",
            "Epoch 33/100\n",
            "28995/28995 [==============================] - 104s 4ms/step - loss: 11.8376\n",
            "Epoch 34/100\n",
            "28995/28995 [==============================] - 106s 4ms/step - loss: 11.8387\n",
            "Epoch 35/100\n",
            "28995/28995 [==============================] - 105s 4ms/step - loss: 11.8355\n",
            "Epoch 36/100\n",
            "28995/28995 [==============================] - 105s 4ms/step - loss: 11.8327\n",
            "Epoch 37/100\n",
            "28995/28995 [==============================] - 103s 4ms/step - loss: 11.8290\n",
            "Epoch 38/100\n",
            "28995/28995 [==============================] - 106s 4ms/step - loss: 11.8285\n",
            "Epoch 39/100\n",
            "28995/28995 [==============================] - 104s 4ms/step - loss: 11.8268\n",
            "Epoch 40/100\n",
            "28995/28995 [==============================] - 103s 4ms/step - loss: 11.8269\n",
            "Epoch 41/100\n",
            "28995/28995 [==============================] - 108s 4ms/step - loss: 11.8252\n",
            "Epoch 42/100\n",
            "28995/28995 [==============================] - 105s 4ms/step - loss: 11.8230\n",
            "Epoch 43/100\n",
            "28995/28995 [==============================] - 104s 4ms/step - loss: 11.8213\n",
            "Epoch 44/100\n",
            "28995/28995 [==============================] - 102s 4ms/step - loss: 11.8202\n",
            "Epoch 45/100\n",
            "28995/28995 [==============================] - 105s 4ms/step - loss: 11.8200\n",
            "Epoch 46/100\n",
            "28995/28995 [==============================] - 102s 4ms/step - loss: 11.8171\n",
            "Epoch 47/100\n",
            "28995/28995 [==============================] - 105s 4ms/step - loss: 11.8166\n",
            "Epoch 48/100\n",
            "28995/28995 [==============================] - 105s 4ms/step - loss: 11.8165\n",
            "Epoch 49/100\n",
            "28995/28995 [==============================] - 102s 4ms/step - loss: 11.8146\n",
            "Epoch 50/100\n",
            "28995/28995 [==============================] - 102s 4ms/step - loss: 11.8143\n",
            "Epoch 51/100\n",
            "28995/28995 [==============================] - 106s 4ms/step - loss: 11.8106\n",
            "Epoch 52/100\n",
            "28995/28995 [==============================] - 102s 4ms/step - loss: 11.8082\n",
            "Epoch 53/100\n",
            "28995/28995 [==============================] - 105s 4ms/step - loss: 11.8073\n",
            "Epoch 54/100\n",
            "28995/28995 [==============================] - 105s 4ms/step - loss: 11.8067\n",
            "Epoch 55/100\n",
            "28995/28995 [==============================] - 105s 4ms/step - loss: 11.8060\n",
            "Epoch 56/100\n",
            "28995/28995 [==============================] - 103s 4ms/step - loss: 11.8053\n",
            "Epoch 57/100\n",
            "28995/28995 [==============================] - 104s 4ms/step - loss: 11.8044\n",
            "Epoch 58/100\n",
            "28995/28995 [==============================] - 102s 4ms/step - loss: 11.8033\n",
            "Epoch 59/100\n",
            "28995/28995 [==============================] - 103s 4ms/step - loss: 11.8023\n",
            "Epoch 60/100\n",
            "28995/28995 [==============================] - 105s 4ms/step - loss: 11.8037\n",
            "Epoch 61/100\n",
            "28995/28995 [==============================] - 102s 4ms/step - loss: 11.7998\n",
            "Epoch 62/100\n",
            "28995/28995 [==============================] - 105s 4ms/step - loss: 11.7999\n",
            "Epoch 63/100\n",
            "28995/28995 [==============================] - 101s 3ms/step - loss: 11.7984\n",
            "Epoch 64/100\n",
            "28995/28995 [==============================] - 103s 4ms/step - loss: 11.7962\n",
            "Epoch 65/100\n",
            "28995/28995 [==============================] - 102s 4ms/step - loss: 11.7962\n",
            "Epoch 66/100\n",
            "28995/28995 [==============================] - 103s 4ms/step - loss: 11.7956\n",
            "Epoch 67/100\n",
            "28995/28995 [==============================] - 101s 3ms/step - loss: 11.7943\n",
            "Epoch 68/100\n",
            "28995/28995 [==============================] - 103s 4ms/step - loss: 11.7947\n",
            "Epoch 69/100\n",
            "28995/28995 [==============================] - 101s 3ms/step - loss: 11.7928\n",
            "Epoch 70/100\n",
            "28995/28995 [==============================] - 104s 4ms/step - loss: 11.7918\n",
            "Epoch 71/100\n",
            "28995/28995 [==============================] - 101s 3ms/step - loss: 11.7920\n",
            "Epoch 72/100\n",
            "28995/28995 [==============================] - 102s 4ms/step - loss: 11.7904\n",
            "Epoch 73/100\n",
            "28995/28995 [==============================] - 101s 3ms/step - loss: 11.7902\n",
            "Epoch 74/100\n",
            "28995/28995 [==============================] - 103s 4ms/step - loss: 11.7882\n",
            "Epoch 75/100\n",
            "28995/28995 [==============================] - 101s 3ms/step - loss: 11.7872\n",
            "Epoch 76/100\n",
            "28995/28995 [==============================] - 101s 3ms/step - loss: 11.7862\n",
            "Epoch 77/100\n",
            "28995/28995 [==============================] - 104s 4ms/step - loss: 11.7862\n",
            "Epoch 78/100\n",
            "28995/28995 [==============================] - 103s 4ms/step - loss: 11.7873\n",
            "Epoch 79/100\n",
            "28995/28995 [==============================] - 105s 4ms/step - loss: 11.7857\n",
            "Epoch 80/100\n",
            "28995/28995 [==============================] - 104s 4ms/step - loss: 11.7860\n",
            "Epoch 81/100\n",
            "28995/28995 [==============================] - 108s 4ms/step - loss: 11.7839\n",
            "Epoch 82/100\n",
            "28995/28995 [==============================] - 106s 4ms/step - loss: 11.7831\n",
            "Epoch 83/100\n",
            "28995/28995 [==============================] - 104s 4ms/step - loss: 11.7810\n",
            "Epoch 84/100\n",
            "28995/28995 [==============================] - 102s 4ms/step - loss: 11.7807\n",
            "Epoch 85/100\n",
            "28995/28995 [==============================] - 104s 4ms/step - loss: 11.7814\n",
            "Epoch 86/100\n",
            "28995/28995 [==============================] - 102s 4ms/step - loss: 11.7808\n",
            "Epoch 87/100\n",
            "28995/28995 [==============================] - 106s 4ms/step - loss: 11.7798\n",
            "Epoch 88/100\n",
            "28995/28995 [==============================] - 102s 4ms/step - loss: 11.7785\n",
            "Epoch 89/100\n",
            "28995/28995 [==============================] - 104s 4ms/step - loss: 11.7771\n",
            "Epoch 90/100\n",
            "28995/28995 [==============================] - 102s 4ms/step - loss: 11.7785\n",
            "Epoch 91/100\n",
            "28995/28995 [==============================] - 101s 3ms/step - loss: 11.7760\n",
            "Epoch 92/100\n",
            "28995/28995 [==============================] - 103s 4ms/step - loss: 11.7762\n",
            "Epoch 93/100\n",
            "28995/28995 [==============================] - 103s 4ms/step - loss: 11.7776\n",
            "Epoch 94/100\n",
            "28995/28995 [==============================] - 103s 4ms/step - loss: 11.7754\n",
            "Epoch 95/100\n",
            "28995/28995 [==============================] - 101s 3ms/step - loss: 11.7754\n",
            "Epoch 96/100\n",
            "28995/28995 [==============================] - 104s 4ms/step - loss: 11.7751\n",
            "Epoch 97/100\n",
            "28995/28995 [==============================] - 103s 4ms/step - loss: 11.7741\n",
            "Epoch 98/100\n",
            "28995/28995 [==============================] - 109s 4ms/step - loss: 11.7738\n",
            "Epoch 99/100\n",
            "28995/28995 [==============================] - 106s 4ms/step - loss: 11.7722\n",
            "Epoch 100/100\n",
            "28995/28995 [==============================] - 108s 4ms/step - loss: 11.7727\n"
          ]
        }
      ]
    },
    {
      "cell_type": "code",
      "source": [
        "# Evaluate the model using the test data\n",
        "model_loss = nn.evaluate(x_test_scaled,y_test,verbose=2)\n",
        "print(f\"Loss: {model_loss}\")"
      ],
      "metadata": {
        "id": "cW6zqDpotOLt",
        "colab": {
          "base_uri": "https://localhost:8080/"
        },
        "outputId": "d5803251-2345-427a-816a-74f08046746a"
      },
      "execution_count": 23,
      "outputs": [
        {
          "output_type": "stream",
          "name": "stdout",
          "text": [
            "7249/7249 - 17s - loss: 11.8849 - 17s/epoch - 2ms/step\n",
            "Loss: 11.884917259216309\n"
          ]
        }
      ]
    }
  ]
}