{
  "cells": [
    {
      "cell_type": "markdown",
      "metadata": {
        "id": "view-in-github",
        "colab_type": "text"
      },
      "source": [
        "<a href=\"https://colab.research.google.com/github/ollayyy/Popularity-Predictor/blob/main/Random_forest_popularity_predictor.ipynb\" target=\"_parent\"><img src=\"https://colab.research.google.com/assets/colab-badge.svg\" alt=\"Open In Colab\"/></a>"
      ]
    },
    {
      "cell_type": "markdown",
      "metadata": {
        "id": "picR46gyYWjb"
      },
      "source": [
        "Installs and imports"
      ]
    },
    {
      "cell_type": "code",
      "execution_count": 1,
      "metadata": {
        "colab": {
          "base_uri": "https://localhost:8080/"
        },
        "id": "HZ9HvAdLWPVT",
        "outputId": "8f065cc3-0f2c-42d8-db99-8a67bb560f32"
      },
      "outputs": [
        {
          "output_type": "stream",
          "name": "stdout",
          "text": [
            "Collecting pyspark\n",
            "  Downloading pyspark-3.4.1.tar.gz (310.8 MB)\n",
            "\u001b[2K     \u001b[90m━━━━━━━━━━━━━━━━━━━━━━━━━━━━━━━━━━━━━━━\u001b[0m \u001b[32m310.8/310.8 MB\u001b[0m \u001b[31m3.6 MB/s\u001b[0m eta \u001b[36m0:00:00\u001b[0m\n",
            "\u001b[?25h  Preparing metadata (setup.py) ... \u001b[?25l\u001b[?25hdone\n",
            "Requirement already satisfied: py4j==0.10.9.7 in /usr/local/lib/python3.10/dist-packages (from pyspark) (0.10.9.7)\n",
            "Building wheels for collected packages: pyspark\n",
            "  Building wheel for pyspark (setup.py) ... \u001b[?25l\u001b[?25hdone\n",
            "  Created wheel for pyspark: filename=pyspark-3.4.1-py2.py3-none-any.whl size=311285388 sha256=27b734d70225a7ef374833f9790e09408c44c3d2f4d81f0187ab75ba40187eba\n",
            "  Stored in directory: /root/.cache/pip/wheels/0d/77/a3/ff2f74cc9ab41f8f594dabf0579c2a7c6de920d584206e0834\n",
            "Successfully built pyspark\n",
            "Installing collected packages: pyspark\n",
            "Successfully installed pyspark-3.4.1\n"
          ]
        }
      ],
      "source": [
        "pip install pyspark"
      ]
    },
    {
      "cell_type": "code",
      "execution_count": 2,
      "metadata": {
        "colab": {
          "base_uri": "https://localhost:8080/"
        },
        "id": "ae8Ddm0DVqXy",
        "outputId": "e633f3b8-4161-4d20-91f4-aeabbfd4d80d"
      },
      "outputs": [
        {
          "output_type": "stream",
          "name": "stdout",
          "text": [
            "Collecting findspark\n",
            "  Downloading findspark-2.0.1-py2.py3-none-any.whl (4.4 kB)\n",
            "Installing collected packages: findspark\n",
            "Successfully installed findspark-2.0.1\n"
          ]
        }
      ],
      "source": [
        "pip install findspark"
      ]
    },
    {
      "cell_type": "code",
      "execution_count": 3,
      "metadata": {
        "id": "eypJyzplUd-a"
      },
      "outputs": [],
      "source": [
        "import findspark\n",
        "findspark.init()\n",
        "import pandas as pd\n",
        "import tensorflow as tf"
      ]
    },
    {
      "cell_type": "code",
      "execution_count": 22,
      "metadata": {
        "id": "0Ep_-JMZUmr-"
      },
      "outputs": [],
      "source": [
        "from pyspark.sql import SparkSession\n",
        "\n",
        "from sklearn.model_selection import train_test_split\n",
        "from sklearn.preprocessing import StandardScaler\n",
        "from sklearn.linear_model import LinearRegression\n",
        "from sklearn.metrics import mean_absolute_error\n",
        "from sklearn.ensemble import RandomForestRegressor\n",
        "from sklearn.metrics import accuracy_score"
      ]
    },
    {
      "cell_type": "code",
      "execution_count": 5,
      "metadata": {
        "colab": {
          "base_uri": "https://localhost:8080/"
        },
        "id": "T7sub_EoWjZi",
        "outputId": "f149635b-735d-47d6-ea4d-1e3dbd118357"
      },
      "outputs": [
        {
          "output_type": "stream",
          "name": "stdout",
          "text": [
            "Mounted at /content/drive\n"
          ]
        }
      ],
      "source": [
        "from google.colab import drive\n",
        "drive.mount('/content/drive')"
      ]
    },
    {
      "cell_type": "markdown",
      "metadata": {
        "id": "QlupQSHsyhq6"
      },
      "source": [
        "Call in data"
      ]
    },
    {
      "cell_type": "code",
      "execution_count": 6,
      "metadata": {
        "id": "l4fxqMP6VDAd"
      },
      "outputs": [],
      "source": [
        "spark = SparkSession.builder.appName(\"PopularityPredictor\").getOrCreate()"
      ]
    },
    {
      "cell_type": "code",
      "execution_count": 7,
      "metadata": {
        "id": "vRbCB2GvVC5q"
      },
      "outputs": [],
      "source": [
        "csv_path = \"/content/drive/MyDrive/Data Analysis Bootcamp/spotify_data.csv\"\n",
        "df = spark.read.csv(csv_path, header=True, quote= \"\\\"\", escape=\"\\\"\")"
      ]
    },
    {
      "cell_type": "code",
      "execution_count": 8,
      "metadata": {
        "colab": {
          "base_uri": "https://localhost:8080/"
        },
        "id": "09mA1BsgVCzv",
        "outputId": "507a731f-5567-4ad5-e3c3-3405bcec1771"
      },
      "outputs": [
        {
          "output_type": "stream",
          "name": "stdout",
          "text": [
            "+---+--------------------+--------------------+--------------------+----------+----+--------+------------+------+---+--------+----+-----------+------------+----------------+--------+-------+-------+-----------+--------------+\n",
            "|_c0|         artist_name|          track_name|            track_id|popularity|year|   genre|danceability|energy|key|loudness|mode|speechiness|acousticness|instrumentalness|liveness|valence|  tempo|duration_ms|time_signature|\n",
            "+---+--------------------+--------------------+--------------------+----------+----+--------+------------+------+---+--------+----+-----------+------------+----------------+--------+-------+-------+-----------+--------------+\n",
            "|  0|          Jason Mraz|     I Won't Give Up|53QF56cjZA9RTuuMZ...|        68|2012|acoustic|       0.483| 0.303|  4| -10.058|   1|     0.0429|       0.694|             0.0|   0.115|  0.139|133.406|     240166|             3|\n",
            "|  1|          Jason Mraz|    93 Million Miles|1s8tP3jP4GZcyHDsj...|        50|2012|acoustic|       0.572| 0.454|  3| -10.286|   1|     0.0258|       0.477|        1.37e-05|  0.0974|  0.515|140.182|     216387|             4|\n",
            "|  2|       Joshua Hyslop|    Do Not Let Me Go|7BRCa8MPiyuvr2VU3...|        57|2012|acoustic|       0.409| 0.234|  3| -13.711|   1|     0.0323|       0.338|           5e-05|  0.0895|  0.145|139.832|     158960|             4|\n",
            "|  3|        Boyce Avenue|            Fast Car|63wsZUhUZLlh1Osyr...|        58|2012|acoustic|       0.392| 0.251| 10|  -9.845|   1|     0.0363|       0.807|             0.0|  0.0797|  0.508|204.961|     304293|             4|\n",
            "|  4|        Andrew Belle|    Sky's Still Blue|6nXIYClvJAfi6ujLi...|        54|2012|acoustic|        0.43| 0.791|  6|  -5.419|   0|     0.0302|      0.0726|          0.0193|    0.11|  0.217|171.864|     244320|             4|\n",
            "|  5|       Chris Smither|       What They Say|24NvptbNKGs6sPy1V...|        48|2012|acoustic|       0.566|  0.57|  2|   -6.42|   1|     0.0329|       0.688|        1.73e-06|  0.0943|   0.96| 83.403|     166240|             4|\n",
            "|  6|          Matt Wertz|Walking in a Wint...|0BP7hSvLAG3URGrEv...|        48|2012|acoustic|       0.575| 0.606|  9|  -8.197|   1|       0.03|      0.0119|             0.0|  0.0675|  0.364|121.083|     152307|             4|\n",
            "|  7|Green River Ordin...|       Dancing Shoes|3Y6BuzQCg9p4yH347...|        45|2012|acoustic|       0.586| 0.423|  7|  -7.459|   1|     0.0261|       0.252|        5.83e-06|  0.0976|  0.318|138.133|     232373|             4|\n",
            "|  8|          Jason Mraz|Living in the Moment|3ce7k1L4EkZppZPz1...|        44|2012|acoustic|        0.65| 0.628|  7|   -7.16|   1|     0.0232|      0.0483|             0.0|   0.119|    0.7| 84.141|     235080|             4|\n",
            "|  9|        Boyce Avenue|              Heaven|2EKxmYmUdAVXlaHCn...|        58|2012|acoustic|       0.619|  0.28|  8| -10.238|   0|     0.0317|        0.73|             0.0|   0.103|  0.292|129.948|     250063|             4|\n",
            "| 10|   Tristan Prettyman|        Say Anything|1RjEDlhTp2iJXWPdL...|        45|2012|acoustic|       0.657|  0.43|  1| -10.202|   1|     0.0314|       0.534|        0.000238|    0.12|  0.335| 91.967|     236379|             4|\n",
            "| 11|          David Gray|Money (That's Wha...|38sSJ12azM6Mic7aj...|        45|2012|acoustic|       0.655| 0.692|  5|  -6.217|   1|     0.0326|       0.568|        2.34e-05|   0.119|  0.547|121.455|     234270|             4|\n",
            "| 12|        Boyce Avenue|    Someone Like You|6VtoP2sJt5oCmPOQI...|        55|2012|acoustic|       0.439| 0.207|  1|  -9.573|   1|     0.0297|       0.608|             0.0|   0.186|  0.264|136.514|     276147|             4|\n",
            "| 13|          Jason Mraz|    The Woman I Love|0AYG9AcwqEeqgAw3O...|        40|2012|acoustic|       0.591| 0.647|  4|   -8.34|   1|     0.0277|       0.067|        6.57e-05|   0.231|  0.678|  79.68|     190752|             4|\n",
            "| 14|        Eddie Vedder| I Shall Be Released|0J1iFISejodqBIy0Q...|        44|2012|acoustic|        0.45| 0.713|  6|  -7.503|   0|     0.0386|       0.157|             0.0|   0.992|   0.36|  74.71|     283587|             4|\n",
            "| 15|      The Civil Wars|        Kingdom Come|1IZc5f9ulw7Ge2eOp...|        41|2012|acoustic|       0.497| 0.277|  4| -11.382|   0|     0.0373|       0.846|        4.77e-06|   0.111|  0.179| 81.367|     222560|             4|\n",
            "| 16|     Gabrielle Aplin|                Home|20kpTTSvI4ok6Gm1u...|        57|2012|acoustic|       0.439| 0.265|  2|  -10.72|   1|     0.0343|       0.736|             0.0|   0.093|  0.382|140.494|     247002|             4|\n",
            "| 17|          Harley Poe|Transvestities Ca...|46KacVTVWMkyXS0jf...|        39|2012|acoustic|       0.499| 0.614|  7|  -8.175|   1|     0.0621|       0.151|        3.52e-06|  0.0555|  0.605| 89.038|     276973|             4|\n",
            "| 18|            Ron Pope|   One Grain of Sand|3yqJGfvXtPZLiWHVe...|        49|2012|acoustic|       0.713| 0.824|  3|  -7.168|   1|     0.0393|       0.106|        8.03e-05|    0.13|  0.696|120.028|     207240|             4|\n",
            "| 19|      Sara Bareilles|Once Upon Another...|7KG9zriC6iP8F1CNi...|        39|2012|acoustic|       0.275| 0.216|  2| -14.504|   1|     0.0493|       0.896|             0.0|   0.231| 0.0551| 95.421|     324333|             5|\n",
            "+---+--------------------+--------------------+--------------------+----------+----+--------+------------+------+---+--------+----+-----------+------------+----------------+--------+-------+-------+-----------+--------------+\n",
            "only showing top 20 rows\n",
            "\n"
          ]
        }
      ],
      "source": [
        "df.show()"
      ]
    },
    {
      "cell_type": "markdown",
      "metadata": {
        "id": "iuvyEmuVy3Yy"
      },
      "source": [
        "Clean Data Columns"
      ]
    },
    {
      "cell_type": "code",
      "execution_count": 9,
      "metadata": {
        "colab": {
          "base_uri": "https://localhost:8080/"
        },
        "id": "GQ8whElnVCs1",
        "outputId": "0ae25188-c0ea-43a6-ed15-7de83a37be24"
      },
      "outputs": [
        {
          "output_type": "stream",
          "name": "stdout",
          "text": [
            "+----------+------------+--------------+------+-------+---+-----------+------------+--------+-------+\n",
            "|popularity|danceability|time_signature|energy|  tempo|key|speechiness|acousticness|liveness|valence|\n",
            "+----------+------------+--------------+------+-------+---+-----------+------------+--------+-------+\n",
            "|        68|       0.483|             3| 0.303|133.406|  4|     0.0429|       0.694|   0.115|  0.139|\n",
            "|        50|       0.572|             4| 0.454|140.182|  3|     0.0258|       0.477|  0.0974|  0.515|\n",
            "|        57|       0.409|             4| 0.234|139.832|  3|     0.0323|       0.338|  0.0895|  0.145|\n",
            "|        58|       0.392|             4| 0.251|204.961| 10|     0.0363|       0.807|  0.0797|  0.508|\n",
            "|        54|        0.43|             4| 0.791|171.864|  6|     0.0302|      0.0726|    0.11|  0.217|\n",
            "|        48|       0.566|             4|  0.57| 83.403|  2|     0.0329|       0.688|  0.0943|   0.96|\n",
            "|        48|       0.575|             4| 0.606|121.083|  9|       0.03|      0.0119|  0.0675|  0.364|\n",
            "|        45|       0.586|             4| 0.423|138.133|  7|     0.0261|       0.252|  0.0976|  0.318|\n",
            "|        44|        0.65|             4| 0.628| 84.141|  7|     0.0232|      0.0483|   0.119|    0.7|\n",
            "|        58|       0.619|             4|  0.28|129.948|  8|     0.0317|        0.73|   0.103|  0.292|\n",
            "|        45|       0.657|             4|  0.43| 91.967|  1|     0.0314|       0.534|    0.12|  0.335|\n",
            "|        45|       0.655|             4| 0.692|121.455|  5|     0.0326|       0.568|   0.119|  0.547|\n",
            "|        55|       0.439|             4| 0.207|136.514|  1|     0.0297|       0.608|   0.186|  0.264|\n",
            "|        40|       0.591|             4| 0.647|  79.68|  4|     0.0277|       0.067|   0.231|  0.678|\n",
            "|        44|        0.45|             4| 0.713|  74.71|  6|     0.0386|       0.157|   0.992|   0.36|\n",
            "|        41|       0.497|             4| 0.277| 81.367|  4|     0.0373|       0.846|   0.111|  0.179|\n",
            "|        57|       0.439|             4| 0.265|140.494|  2|     0.0343|       0.736|   0.093|  0.382|\n",
            "|        39|       0.499|             4| 0.614| 89.038|  7|     0.0621|       0.151|  0.0555|  0.605|\n",
            "|        49|       0.713|             4| 0.824|120.028|  3|     0.0393|       0.106|    0.13|  0.696|\n",
            "|        39|       0.275|             5| 0.216| 95.421|  2|     0.0493|       0.896|   0.231| 0.0551|\n",
            "+----------+------------+--------------+------+-------+---+-----------+------------+--------+-------+\n",
            "only showing top 20 rows\n",
            "\n"
          ]
        }
      ],
      "source": [
        "cols = ['popularity','danceability', 'time_signature', 'energy', 'tempo', 'key', 'speechiness', 'acousticness', 'liveness', 'valence', ]\n",
        "cleaned_df = df.select(cols)\n",
        "cleaned_df.show()"
      ]
    },
    {
      "cell_type": "code",
      "execution_count": 10,
      "metadata": {
        "id": "lbe3lcYjdJeJ"
      },
      "outputs": [],
      "source": [
        "clean_df=cleaned_df.toPandas()"
      ]
    },
    {
      "cell_type": "code",
      "execution_count": 11,
      "metadata": {
        "id": "eH2f8bdrh0gh"
      },
      "outputs": [],
      "source": [
        "df = pd.DataFrame(clean_df)\n",
        "df = df.astype({\"popularity\":\"int\", \"danceability\": \"float\", \"time_signature\":\"int\",\n",
        "                \"energy\":\"float\", \"tempo\":\"float\", \"key\":\"int\", \"speechiness\":\"float\", \"acousticness\":\"float\",\n",
        "                \"liveness\":\"float\", \"valence\": \"float\"})"
      ]
    },
    {
      "cell_type": "markdown",
      "metadata": {
        "id": "09_HL-6jYGAs"
      },
      "source": [
        "Machine Learning"
      ]
    },
    {
      "cell_type": "code",
      "execution_count": 12,
      "metadata": {
        "colab": {
          "base_uri": "https://localhost:8080/"
        },
        "id": "pU_rtVwcFja3",
        "outputId": "4154cd6b-1645-4c9d-b9f8-f7c50cd2ab75"
      },
      "outputs": [
        {
          "output_type": "execute_result",
          "data": {
            "text/plain": [
              "popularity          int64\n",
              "danceability      float64\n",
              "time_signature      int64\n",
              "energy            float64\n",
              "tempo             float64\n",
              "key                 int64\n",
              "speechiness       float64\n",
              "acousticness      float64\n",
              "liveness          float64\n",
              "valence           float64\n",
              "dtype: object"
            ]
          },
          "metadata": {},
          "execution_count": 12
        }
      ],
      "source": [
        "df.dtypes"
      ]
    },
    {
      "cell_type": "code",
      "execution_count": 13,
      "metadata": {
        "id": "WJoi6-96cFLl"
      },
      "outputs": [],
      "source": [
        "df=pd.get_dummies(df)"
      ]
    },
    {
      "cell_type": "code",
      "execution_count": 14,
      "metadata": {
        "id": "gnfcvHv4bjom"
      },
      "outputs": [],
      "source": [
        "y=df['popularity'].values"
      ]
    },
    {
      "cell_type": "code",
      "execution_count": 15,
      "metadata": {
        "colab": {
          "base_uri": "https://localhost:8080/"
        },
        "id": "5G3njKiSYZiP",
        "outputId": "667fb13e-375f-4829-fe91-da34238582a3"
      },
      "outputs": [
        {
          "output_type": "stream",
          "name": "stderr",
          "text": [
            "<ipython-input-15-300b452bd692>:1: FutureWarning: In a future version of pandas all arguments of DataFrame.drop except for the argument 'labels' will be keyword-only.\n",
            "  x=df.drop('popularity',1).values\n"
          ]
        }
      ],
      "source": [
        "x=df.drop('popularity',1).values"
      ]
    },
    {
      "cell_type": "code",
      "execution_count": 16,
      "metadata": {
        "colab": {
          "base_uri": "https://localhost:8080/"
        },
        "id": "6CUepf9VFRd9",
        "outputId": "8be37ab0-b232-4bc1-c4d4-645dd3f6b9b7"
      },
      "outputs": [
        {
          "output_type": "execute_result",
          "data": {
            "text/plain": [
              "0      158391\n",
              "1       39820\n",
              "2       31247\n",
              "8       30322\n",
              "9       29249\n",
              "        ...  \n",
              "93          3\n",
              "94          1\n",
              "96          1\n",
              "100         1\n",
              "95          1\n",
              "Name: popularity, Length: 98, dtype: int64"
            ]
          },
          "metadata": {},
          "execution_count": 16
        }
      ],
      "source": [
        "popularity_counts = df['popularity'].value_counts()\n",
        "popularity_counts"
      ]
    },
    {
      "cell_type": "code",
      "execution_count": 17,
      "metadata": {
        "colab": {
          "base_uri": "https://localhost:8080/"
        },
        "id": "zTUnAyKHr9Uw",
        "outputId": "88bd024a-18ba-4884-c2ae-c0a22805a813"
      },
      "outputs": [
        {
          "output_type": "execute_result",
          "data": {
            "text/plain": [
              "Other    547760\n",
              "0        158391\n",
              "1         39820\n",
              "2         31247\n",
              "8         30322\n",
              "9         29249\n",
              "7         28697\n",
              "10        28600\n",
              "3         28592\n",
              "11        28325\n",
              "6         27628\n",
              "12        27297\n",
              "13        26301\n",
              "4         25929\n",
              "14        25683\n",
              "15        25466\n",
              "5         25289\n",
              "16        25168\n",
              "Name: popularity, dtype: int64"
            ]
          },
          "metadata": {},
          "execution_count": 17
        }
      ],
      "source": [
        "# Choose a cutoff value and create a list of classifications to be replaced\n",
        "# use the variable name `classifications_to_replace`\n",
        "classifications_to_replace= list(popularity_counts[popularity_counts<25000].index)\n",
        "# Replace in dataframe\n",
        "for cls in classifications_to_replace:\n",
        "    df['popularity'] = df['popularity'].replace(cls,\"Other\")\n",
        "# Check to make sure binning was successful\n",
        "df['popularity'].value_counts()"
      ]
    },
    {
      "cell_type": "code",
      "execution_count": 18,
      "metadata": {
        "id": "Ar9Nf0CQZI0F"
      },
      "outputs": [],
      "source": [
        "x_train, x_test, y_train, y_test = train_test_split(x,y, test_size=0.2)"
      ]
    },
    {
      "cell_type": "code",
      "execution_count": 19,
      "metadata": {
        "id": "8Al0qeFRsJ-F"
      },
      "outputs": [],
      "source": [
        "# Create a StandardScaler instances\n",
        "scaler = StandardScaler()\n",
        "\n",
        "# Fit the StandardScaler\n",
        "x_scaler = scaler.fit(x_train)\n",
        "\n",
        "# Scale the data\n",
        "x_train_scaled = x_scaler.transform(x_train)\n",
        "x_test_scaled = x_scaler.transform(x_test)"
      ]
    },
    {
      "cell_type": "code",
      "source": [
        "rf_model = RandomForestRegressor(n_estimators=100, max_depth=20, random_state=1)\n",
        "rf_model.fit(x_train, y_train)"
      ],
      "metadata": {
        "colab": {
          "base_uri": "https://localhost:8080/",
          "height": 75
        },
        "id": "cO6K-U0Za3-O",
        "outputId": "b03fa5b8-6cbc-4359-b61e-f1bff777f22d"
      },
      "execution_count": 23,
      "outputs": [
        {
          "output_type": "execute_result",
          "data": {
            "text/plain": [
              "RandomForestRegressor(max_depth=20, random_state=1)"
            ],
            "text/html": [
              "<style>#sk-container-id-1 {color: black;background-color: white;}#sk-container-id-1 pre{padding: 0;}#sk-container-id-1 div.sk-toggleable {background-color: white;}#sk-container-id-1 label.sk-toggleable__label {cursor: pointer;display: block;width: 100%;margin-bottom: 0;padding: 0.3em;box-sizing: border-box;text-align: center;}#sk-container-id-1 label.sk-toggleable__label-arrow:before {content: \"▸\";float: left;margin-right: 0.25em;color: #696969;}#sk-container-id-1 label.sk-toggleable__label-arrow:hover:before {color: black;}#sk-container-id-1 div.sk-estimator:hover label.sk-toggleable__label-arrow:before {color: black;}#sk-container-id-1 div.sk-toggleable__content {max-height: 0;max-width: 0;overflow: hidden;text-align: left;background-color: #f0f8ff;}#sk-container-id-1 div.sk-toggleable__content pre {margin: 0.2em;color: black;border-radius: 0.25em;background-color: #f0f8ff;}#sk-container-id-1 input.sk-toggleable__control:checked~div.sk-toggleable__content {max-height: 200px;max-width: 100%;overflow: auto;}#sk-container-id-1 input.sk-toggleable__control:checked~label.sk-toggleable__label-arrow:before {content: \"▾\";}#sk-container-id-1 div.sk-estimator input.sk-toggleable__control:checked~label.sk-toggleable__label {background-color: #d4ebff;}#sk-container-id-1 div.sk-label input.sk-toggleable__control:checked~label.sk-toggleable__label {background-color: #d4ebff;}#sk-container-id-1 input.sk-hidden--visually {border: 0;clip: rect(1px 1px 1px 1px);clip: rect(1px, 1px, 1px, 1px);height: 1px;margin: -1px;overflow: hidden;padding: 0;position: absolute;width: 1px;}#sk-container-id-1 div.sk-estimator {font-family: monospace;background-color: #f0f8ff;border: 1px dotted black;border-radius: 0.25em;box-sizing: border-box;margin-bottom: 0.5em;}#sk-container-id-1 div.sk-estimator:hover {background-color: #d4ebff;}#sk-container-id-1 div.sk-parallel-item::after {content: \"\";width: 100%;border-bottom: 1px solid gray;flex-grow: 1;}#sk-container-id-1 div.sk-label:hover label.sk-toggleable__label {background-color: #d4ebff;}#sk-container-id-1 div.sk-serial::before {content: \"\";position: absolute;border-left: 1px solid gray;box-sizing: border-box;top: 0;bottom: 0;left: 50%;z-index: 0;}#sk-container-id-1 div.sk-serial {display: flex;flex-direction: column;align-items: center;background-color: white;padding-right: 0.2em;padding-left: 0.2em;position: relative;}#sk-container-id-1 div.sk-item {position: relative;z-index: 1;}#sk-container-id-1 div.sk-parallel {display: flex;align-items: stretch;justify-content: center;background-color: white;position: relative;}#sk-container-id-1 div.sk-item::before, #sk-container-id-1 div.sk-parallel-item::before {content: \"\";position: absolute;border-left: 1px solid gray;box-sizing: border-box;top: 0;bottom: 0;left: 50%;z-index: -1;}#sk-container-id-1 div.sk-parallel-item {display: flex;flex-direction: column;z-index: 1;position: relative;background-color: white;}#sk-container-id-1 div.sk-parallel-item:first-child::after {align-self: flex-end;width: 50%;}#sk-container-id-1 div.sk-parallel-item:last-child::after {align-self: flex-start;width: 50%;}#sk-container-id-1 div.sk-parallel-item:only-child::after {width: 0;}#sk-container-id-1 div.sk-dashed-wrapped {border: 1px dashed gray;margin: 0 0.4em 0.5em 0.4em;box-sizing: border-box;padding-bottom: 0.4em;background-color: white;}#sk-container-id-1 div.sk-label label {font-family: monospace;font-weight: bold;display: inline-block;line-height: 1.2em;}#sk-container-id-1 div.sk-label-container {text-align: center;}#sk-container-id-1 div.sk-container {/* jupyter's `normalize.less` sets `[hidden] { display: none; }` but bootstrap.min.css set `[hidden] { display: none !important; }` so we also need the `!important` here to be able to override the default hidden behavior on the sphinx rendered scikit-learn.org. See: https://github.com/scikit-learn/scikit-learn/issues/21755 */display: inline-block !important;position: relative;}#sk-container-id-1 div.sk-text-repr-fallback {display: none;}</style><div id=\"sk-container-id-1\" class=\"sk-top-container\"><div class=\"sk-text-repr-fallback\"><pre>RandomForestRegressor(max_depth=20, random_state=1)</pre><b>In a Jupyter environment, please rerun this cell to show the HTML representation or trust the notebook. <br />On GitHub, the HTML representation is unable to render, please try loading this page with nbviewer.org.</b></div><div class=\"sk-container\" hidden><div class=\"sk-item\"><div class=\"sk-estimator sk-toggleable\"><input class=\"sk-toggleable__control sk-hidden--visually\" id=\"sk-estimator-id-1\" type=\"checkbox\" checked><label for=\"sk-estimator-id-1\" class=\"sk-toggleable__label sk-toggleable__label-arrow\">RandomForestRegressor</label><div class=\"sk-toggleable__content\"><pre>RandomForestRegressor(max_depth=20, random_state=1)</pre></div></div></div></div></div>"
            ]
          },
          "metadata": {},
          "execution_count": 23
        }
      ]
    },
    {
      "cell_type": "code",
      "source": [
        "y_pred = rf_model.predict(x_test)"
      ],
      "metadata": {
        "id": "Pw-MEEAqbfIN"
      },
      "execution_count": 24,
      "outputs": []
    },
    {
      "cell_type": "code",
      "source": [
        "#Evaluating the model\n",
        "mae = mean_absolute_error(y_test, y_pred )\n",
        "print(\"Mean Absolute Eror:\", mae)"
      ],
      "metadata": {
        "colab": {
          "base_uri": "https://localhost:8080/"
        },
        "id": "t68Um0wVbkRJ",
        "outputId": "015b28c9-e63f-4d77-faee-9624d0e31a0a"
      },
      "execution_count": 25,
      "outputs": [
        {
          "output_type": "stream",
          "name": "stdout",
          "text": [
            "Mean Absolute Eror: 12.059803880794618\n"
          ]
        }
      ]
    }
  ],
  "metadata": {
    "colab": {
      "provenance": [],
      "include_colab_link": true
    },
    "kernelspec": {
      "display_name": "Python 3",
      "name": "python3"
    },
    "language_info": {
      "name": "python"
    }
  },
  "nbformat": 4,
  "nbformat_minor": 0
}