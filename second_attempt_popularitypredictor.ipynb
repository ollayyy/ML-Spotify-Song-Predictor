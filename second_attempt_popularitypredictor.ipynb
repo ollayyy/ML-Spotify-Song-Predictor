{
  "nbformat": 4,
  "nbformat_minor": 0,
  "metadata": {
    "colab": {
      "provenance": [],
      "include_colab_link": true
    },
    "kernelspec": {
      "name": "python3",
      "display_name": "Python 3"
    },
    "language_info": {
      "name": "python"
    }
  },
  "cells": [
    {
      "cell_type": "markdown",
      "metadata": {
        "id": "view-in-github",
        "colab_type": "text"
      },
      "source": [
        "<a href=\"https://colab.research.google.com/github/ollayyy/Popularity-Predictor/blob/main/second_attempt_popularitypredictor.ipynb\" target=\"_parent\"><img src=\"https://colab.research.google.com/assets/colab-badge.svg\" alt=\"Open In Colab\"/></a>"
      ]
    },
    {
      "cell_type": "markdown",
      "source": [
        "Installs and imports"
      ],
      "metadata": {
        "id": "picR46gyYWjb"
      }
    },
    {
      "cell_type": "code",
      "source": [
        "pip install pyspark"
      ],
      "metadata": {
        "colab": {
          "base_uri": "https://localhost:8080/"
        },
        "id": "HZ9HvAdLWPVT",
        "outputId": "576ed9a3-2b72-421e-af8b-e6acd4a64fe8"
      },
      "execution_count": 1,
      "outputs": [
        {
          "output_type": "stream",
          "name": "stdout",
          "text": [
            "Collecting pyspark\n",
            "  Downloading pyspark-3.4.1.tar.gz (310.8 MB)\n",
            "\u001b[2K     \u001b[90m━━━━━━━━━━━━━━━━━━━━━━━━━━━━━━━━━━━━━━━\u001b[0m \u001b[32m310.8/310.8 MB\u001b[0m \u001b[31m2.6 MB/s\u001b[0m eta \u001b[36m0:00:00\u001b[0m\n",
            "\u001b[?25h  Preparing metadata (setup.py) ... \u001b[?25l\u001b[?25hdone\n",
            "Requirement already satisfied: py4j==0.10.9.7 in /usr/local/lib/python3.10/dist-packages (from pyspark) (0.10.9.7)\n",
            "Building wheels for collected packages: pyspark\n",
            "  Building wheel for pyspark (setup.py) ... \u001b[?25l\u001b[?25hdone\n",
            "  Created wheel for pyspark: filename=pyspark-3.4.1-py2.py3-none-any.whl size=311285388 sha256=2912e5c9694c83457920db85508a0149a4133687c7e93c9c55d89649632c666d\n",
            "  Stored in directory: /root/.cache/pip/wheels/0d/77/a3/ff2f74cc9ab41f8f594dabf0579c2a7c6de920d584206e0834\n",
            "Successfully built pyspark\n",
            "Installing collected packages: pyspark\n",
            "Successfully installed pyspark-3.4.1\n"
          ]
        }
      ]
    },
    {
      "cell_type": "code",
      "source": [
        "pip install findspark"
      ],
      "metadata": {
        "colab": {
          "base_uri": "https://localhost:8080/"
        },
        "id": "ae8Ddm0DVqXy",
        "outputId": "dd430e6c-1896-4be8-8678-4ab09fb8259b"
      },
      "execution_count": 2,
      "outputs": [
        {
          "output_type": "stream",
          "name": "stdout",
          "text": [
            "Collecting findspark\n",
            "  Downloading findspark-2.0.1-py2.py3-none-any.whl (4.4 kB)\n",
            "Installing collected packages: findspark\n",
            "Successfully installed findspark-2.0.1\n"
          ]
        }
      ]
    },
    {
      "cell_type": "code",
      "source": [
        "import findspark\n",
        "findspark.init()\n",
        "import pandas as pd\n",
        "import tensorflow as tf"
      ],
      "metadata": {
        "id": "eypJyzplUd-a"
      },
      "execution_count": 3,
      "outputs": []
    },
    {
      "cell_type": "code",
      "source": [
        "from pyspark.sql import SparkSession\n",
        "from pyspark.sql.functions import col\n",
        "from sklearn.model_selection import train_test_split\n",
        "from sklearn.preprocessing import StandardScaler\n",
        "from sklearn.linear_model import LinearRegression\n",
        "from sklearn.metrics import mean_squared_error"
      ],
      "metadata": {
        "id": "0Ep_-JMZUmr-"
      },
      "execution_count": 4,
      "outputs": []
    },
    {
      "cell_type": "code",
      "source": [
        "from google.colab import drive\n",
        "drive.mount('/content/drive')"
      ],
      "metadata": {
        "colab": {
          "base_uri": "https://localhost:8080/"
        },
        "id": "T7sub_EoWjZi",
        "outputId": "e132c618-4701-4c36-d83c-9cce170887d9"
      },
      "execution_count": 5,
      "outputs": [
        {
          "output_type": "stream",
          "name": "stdout",
          "text": [
            "Mounted at /content/drive\n"
          ]
        }
      ]
    },
    {
      "cell_type": "markdown",
      "source": [
        "Call in data"
      ],
      "metadata": {
        "id": "QlupQSHsyhq6"
      }
    },
    {
      "cell_type": "code",
      "source": [
        "spark = SparkSession.builder.appName(\"PopularityPredictor\").getOrCreate()"
      ],
      "metadata": {
        "id": "l4fxqMP6VDAd"
      },
      "execution_count": 6,
      "outputs": []
    },
    {
      "cell_type": "code",
      "source": [
        "csv_path = \"/content/drive/MyDrive/Data Analysis Bootcamp/spotify_data.csv\"\n",
        "df = spark.read.csv(csv_path, header=True, quote= \"\\\"\", escape=\"\\\"\")"
      ],
      "metadata": {
        "id": "vRbCB2GvVC5q"
      },
      "execution_count": 7,
      "outputs": []
    },
    {
      "cell_type": "code",
      "source": [
        "df.show()"
      ],
      "metadata": {
        "id": "09mA1BsgVCzv",
        "colab": {
          "base_uri": "https://localhost:8080/"
        },
        "outputId": "f0c449f3-9067-47fd-ccad-fd9b3c68ff2b"
      },
      "execution_count": 8,
      "outputs": [
        {
          "output_type": "stream",
          "name": "stdout",
          "text": [
            "+---+--------------------+--------------------+--------------------+----------+----+--------+------------+------+---+--------+----+-----------+------------+----------------+--------+-------+-------+-----------+--------------+\n",
            "|_c0|         artist_name|          track_name|            track_id|popularity|year|   genre|danceability|energy|key|loudness|mode|speechiness|acousticness|instrumentalness|liveness|valence|  tempo|duration_ms|time_signature|\n",
            "+---+--------------------+--------------------+--------------------+----------+----+--------+------------+------+---+--------+----+-----------+------------+----------------+--------+-------+-------+-----------+--------------+\n",
            "|  0|          Jason Mraz|     I Won't Give Up|53QF56cjZA9RTuuMZ...|        68|2012|acoustic|       0.483| 0.303|  4| -10.058|   1|     0.0429|       0.694|             0.0|   0.115|  0.139|133.406|     240166|             3|\n",
            "|  1|          Jason Mraz|    93 Million Miles|1s8tP3jP4GZcyHDsj...|        50|2012|acoustic|       0.572| 0.454|  3| -10.286|   1|     0.0258|       0.477|        1.37e-05|  0.0974|  0.515|140.182|     216387|             4|\n",
            "|  2|       Joshua Hyslop|    Do Not Let Me Go|7BRCa8MPiyuvr2VU3...|        57|2012|acoustic|       0.409| 0.234|  3| -13.711|   1|     0.0323|       0.338|           5e-05|  0.0895|  0.145|139.832|     158960|             4|\n",
            "|  3|        Boyce Avenue|            Fast Car|63wsZUhUZLlh1Osyr...|        58|2012|acoustic|       0.392| 0.251| 10|  -9.845|   1|     0.0363|       0.807|             0.0|  0.0797|  0.508|204.961|     304293|             4|\n",
            "|  4|        Andrew Belle|    Sky's Still Blue|6nXIYClvJAfi6ujLi...|        54|2012|acoustic|        0.43| 0.791|  6|  -5.419|   0|     0.0302|      0.0726|          0.0193|    0.11|  0.217|171.864|     244320|             4|\n",
            "|  5|       Chris Smither|       What They Say|24NvptbNKGs6sPy1V...|        48|2012|acoustic|       0.566|  0.57|  2|   -6.42|   1|     0.0329|       0.688|        1.73e-06|  0.0943|   0.96| 83.403|     166240|             4|\n",
            "|  6|          Matt Wertz|Walking in a Wint...|0BP7hSvLAG3URGrEv...|        48|2012|acoustic|       0.575| 0.606|  9|  -8.197|   1|       0.03|      0.0119|             0.0|  0.0675|  0.364|121.083|     152307|             4|\n",
            "|  7|Green River Ordin...|       Dancing Shoes|3Y6BuzQCg9p4yH347...|        45|2012|acoustic|       0.586| 0.423|  7|  -7.459|   1|     0.0261|       0.252|        5.83e-06|  0.0976|  0.318|138.133|     232373|             4|\n",
            "|  8|          Jason Mraz|Living in the Moment|3ce7k1L4EkZppZPz1...|        44|2012|acoustic|        0.65| 0.628|  7|   -7.16|   1|     0.0232|      0.0483|             0.0|   0.119|    0.7| 84.141|     235080|             4|\n",
            "|  9|        Boyce Avenue|              Heaven|2EKxmYmUdAVXlaHCn...|        58|2012|acoustic|       0.619|  0.28|  8| -10.238|   0|     0.0317|        0.73|             0.0|   0.103|  0.292|129.948|     250063|             4|\n",
            "| 10|   Tristan Prettyman|        Say Anything|1RjEDlhTp2iJXWPdL...|        45|2012|acoustic|       0.657|  0.43|  1| -10.202|   1|     0.0314|       0.534|        0.000238|    0.12|  0.335| 91.967|     236379|             4|\n",
            "| 11|          David Gray|Money (That's Wha...|38sSJ12azM6Mic7aj...|        45|2012|acoustic|       0.655| 0.692|  5|  -6.217|   1|     0.0326|       0.568|        2.34e-05|   0.119|  0.547|121.455|     234270|             4|\n",
            "| 12|        Boyce Avenue|    Someone Like You|6VtoP2sJt5oCmPOQI...|        55|2012|acoustic|       0.439| 0.207|  1|  -9.573|   1|     0.0297|       0.608|             0.0|   0.186|  0.264|136.514|     276147|             4|\n",
            "| 13|          Jason Mraz|    The Woman I Love|0AYG9AcwqEeqgAw3O...|        40|2012|acoustic|       0.591| 0.647|  4|   -8.34|   1|     0.0277|       0.067|        6.57e-05|   0.231|  0.678|  79.68|     190752|             4|\n",
            "| 14|        Eddie Vedder| I Shall Be Released|0J1iFISejodqBIy0Q...|        44|2012|acoustic|        0.45| 0.713|  6|  -7.503|   0|     0.0386|       0.157|             0.0|   0.992|   0.36|  74.71|     283587|             4|\n",
            "| 15|      The Civil Wars|        Kingdom Come|1IZc5f9ulw7Ge2eOp...|        41|2012|acoustic|       0.497| 0.277|  4| -11.382|   0|     0.0373|       0.846|        4.77e-06|   0.111|  0.179| 81.367|     222560|             4|\n",
            "| 16|     Gabrielle Aplin|                Home|20kpTTSvI4ok6Gm1u...|        57|2012|acoustic|       0.439| 0.265|  2|  -10.72|   1|     0.0343|       0.736|             0.0|   0.093|  0.382|140.494|     247002|             4|\n",
            "| 17|          Harley Poe|Transvestities Ca...|46KacVTVWMkyXS0jf...|        39|2012|acoustic|       0.499| 0.614|  7|  -8.175|   1|     0.0621|       0.151|        3.52e-06|  0.0555|  0.605| 89.038|     276973|             4|\n",
            "| 18|            Ron Pope|   One Grain of Sand|3yqJGfvXtPZLiWHVe...|        49|2012|acoustic|       0.713| 0.824|  3|  -7.168|   1|     0.0393|       0.106|        8.03e-05|    0.13|  0.696|120.028|     207240|             4|\n",
            "| 19|      Sara Bareilles|Once Upon Another...|7KG9zriC6iP8F1CNi...|        39|2012|acoustic|       0.275| 0.216|  2| -14.504|   1|     0.0493|       0.896|             0.0|   0.231| 0.0551| 95.421|     324333|             5|\n",
            "+---+--------------------+--------------------+--------------------+----------+----+--------+------------+------+---+--------+----+-----------+------------+----------------+--------+-------+-------+-----------+--------------+\n",
            "only showing top 20 rows\n",
            "\n"
          ]
        }
      ]
    },
    {
      "cell_type": "markdown",
      "source": [
        "Clean Data Columns"
      ],
      "metadata": {
        "id": "iuvyEmuVy3Yy"
      }
    },
    {
      "cell_type": "code",
      "source": [
        "cols = ['popularity','year','danceability', 'time_signature', 'energy', 'tempo', 'key']\n",
        "cleaned_df = df.select(cols)\n",
        "cleaned_df.show()"
      ],
      "metadata": {
        "id": "GQ8whElnVCs1",
        "colab": {
          "base_uri": "https://localhost:8080/"
        },
        "outputId": "746cf619-62be-43df-99b3-10ef632d5686"
      },
      "execution_count": 9,
      "outputs": [
        {
          "output_type": "stream",
          "name": "stdout",
          "text": [
            "+----------+----+------------+--------------+------+-------+---+\n",
            "|popularity|year|danceability|time_signature|energy|  tempo|key|\n",
            "+----------+----+------------+--------------+------+-------+---+\n",
            "|        68|2012|       0.483|             3| 0.303|133.406|  4|\n",
            "|        50|2012|       0.572|             4| 0.454|140.182|  3|\n",
            "|        57|2012|       0.409|             4| 0.234|139.832|  3|\n",
            "|        58|2012|       0.392|             4| 0.251|204.961| 10|\n",
            "|        54|2012|        0.43|             4| 0.791|171.864|  6|\n",
            "|        48|2012|       0.566|             4|  0.57| 83.403|  2|\n",
            "|        48|2012|       0.575|             4| 0.606|121.083|  9|\n",
            "|        45|2012|       0.586|             4| 0.423|138.133|  7|\n",
            "|        44|2012|        0.65|             4| 0.628| 84.141|  7|\n",
            "|        58|2012|       0.619|             4|  0.28|129.948|  8|\n",
            "|        45|2012|       0.657|             4|  0.43| 91.967|  1|\n",
            "|        45|2012|       0.655|             4| 0.692|121.455|  5|\n",
            "|        55|2012|       0.439|             4| 0.207|136.514|  1|\n",
            "|        40|2012|       0.591|             4| 0.647|  79.68|  4|\n",
            "|        44|2012|        0.45|             4| 0.713|  74.71|  6|\n",
            "|        41|2012|       0.497|             4| 0.277| 81.367|  4|\n",
            "|        57|2012|       0.439|             4| 0.265|140.494|  2|\n",
            "|        39|2012|       0.499|             4| 0.614| 89.038|  7|\n",
            "|        49|2012|       0.713|             4| 0.824|120.028|  3|\n",
            "|        39|2012|       0.275|             5| 0.216| 95.421|  2|\n",
            "+----------+----+------------+--------------+------+-------+---+\n",
            "only showing top 20 rows\n",
            "\n"
          ]
        }
      ]
    },
    {
      "cell_type": "code",
      "source": [
        "clean_df=cleaned_df.toPandas()"
      ],
      "metadata": {
        "id": "lbe3lcYjdJeJ"
      },
      "execution_count": 10,
      "outputs": []
    },
    {
      "cell_type": "code",
      "source": [
        "df = pd.DataFrame(clean_df)\n",
        "df = df.astype({\"popularity\":\"int\", \"year\":\"int\", \"danceability\": \"float\", \"time_signature\":\"int\",\n",
        "                \"energy\":\"float\", \"tempo\":\"float\", \"key\":\"int\"})"
      ],
      "metadata": {
        "id": "eH2f8bdrh0gh"
      },
      "execution_count": 11,
      "outputs": []
    },
    {
      "cell_type": "markdown",
      "source": [
        "Machine Learning"
      ],
      "metadata": {
        "id": "09_HL-6jYGAs"
      }
    },
    {
      "cell_type": "code",
      "source": [
        "df.dtypes"
      ],
      "metadata": {
        "id": "pU_rtVwcFja3",
        "colab": {
          "base_uri": "https://localhost:8080/"
        },
        "outputId": "3c846fb6-b582-4f49-f357-ef073baf6693"
      },
      "execution_count": 12,
      "outputs": [
        {
          "output_type": "execute_result",
          "data": {
            "text/plain": [
              "popularity          int64\n",
              "year                int64\n",
              "danceability      float64\n",
              "time_signature      int64\n",
              "energy            float64\n",
              "tempo             float64\n",
              "key                 int64\n",
              "dtype: object"
            ]
          },
          "metadata": {},
          "execution_count": 12
        }
      ]
    },
    {
      "cell_type": "code",
      "source": [
        "df=pd.get_dummies(df)"
      ],
      "metadata": {
        "id": "WJoi6-96cFLl"
      },
      "execution_count": 13,
      "outputs": []
    },
    {
      "cell_type": "code",
      "source": [
        "y=df['popularity'].values"
      ],
      "metadata": {
        "id": "gnfcvHv4bjom"
      },
      "execution_count": 14,
      "outputs": []
    },
    {
      "cell_type": "code",
      "source": [
        "x=df.drop('popularity',1).values"
      ],
      "metadata": {
        "id": "5G3njKiSYZiP",
        "colab": {
          "base_uri": "https://localhost:8080/"
        },
        "outputId": "08f4e3c2-c784-4e29-fc8c-9407229c6914"
      },
      "execution_count": 15,
      "outputs": [
        {
          "output_type": "stream",
          "name": "stderr",
          "text": [
            "<ipython-input-15-300b452bd692>:1: FutureWarning: In a future version of pandas all arguments of DataFrame.drop except for the argument 'labels' will be keyword-only.\n",
            "  x=df.drop('popularity',1).values\n"
          ]
        }
      ]
    },
    {
      "cell_type": "code",
      "source": [
        "popularity_counts = df['popularity'].value_counts()\n",
        "popularity_counts"
      ],
      "metadata": {
        "id": "6CUepf9VFRd9",
        "colab": {
          "base_uri": "https://localhost:8080/"
        },
        "outputId": "9d23e8ac-ae7b-4120-eab6-b9d1fcb7fdab"
      },
      "execution_count": 16,
      "outputs": [
        {
          "output_type": "execute_result",
          "data": {
            "text/plain": [
              "0      158391\n",
              "1       39820\n",
              "2       31247\n",
              "8       30322\n",
              "9       29249\n",
              "        ...  \n",
              "93          3\n",
              "94          1\n",
              "96          1\n",
              "100         1\n",
              "95          1\n",
              "Name: popularity, Length: 98, dtype: int64"
            ]
          },
          "metadata": {},
          "execution_count": 16
        }
      ]
    },
    {
      "cell_type": "code",
      "source": [
        "# Choose a cutoff value and create a list of classifications to be replaced\n",
        "# use the variable name `classifications_to_replace`\n",
        "classifications_to_replace= list(popularity_counts[popularity_counts<25000].index)\n",
        "# Replace in dataframe\n",
        "for cls in classifications_to_replace:\n",
        "    df['popularity'] = df['popularity'].replace(cls,\"Other\")\n",
        "# Check to make sure binning was successful\n",
        "df['popularity'].value_counts()"
      ],
      "metadata": {
        "colab": {
          "base_uri": "https://localhost:8080/"
        },
        "id": "zTUnAyKHr9Uw",
        "outputId": "e409ed96-7445-4b56-f54a-eb69e75d9325"
      },
      "execution_count": 17,
      "outputs": [
        {
          "output_type": "execute_result",
          "data": {
            "text/plain": [
              "Other    547760\n",
              "0        158391\n",
              "1         39820\n",
              "2         31247\n",
              "8         30322\n",
              "9         29249\n",
              "7         28697\n",
              "10        28600\n",
              "3         28592\n",
              "11        28325\n",
              "6         27628\n",
              "12        27297\n",
              "13        26301\n",
              "4         25929\n",
              "14        25683\n",
              "15        25466\n",
              "5         25289\n",
              "16        25168\n",
              "Name: popularity, dtype: int64"
            ]
          },
          "metadata": {},
          "execution_count": 17
        }
      ]
    },
    {
      "cell_type": "code",
      "source": [
        "x_train, x_test, y_train, y_test = train_test_split(x,y, test_size=0.2)"
      ],
      "metadata": {
        "id": "Ar9Nf0CQZI0F"
      },
      "execution_count": 18,
      "outputs": []
    },
    {
      "cell_type": "code",
      "source": [
        "# Create a StandardScaler instances\n",
        "scaler = StandardScaler()\n",
        "\n",
        "# Fit the StandardScaler\n",
        "x_scaler = scaler.fit(x_train)\n",
        "\n",
        "# Scale the data\n",
        "x_train_scaled = x_scaler.transform(x_train)\n",
        "x_test_scaled = x_scaler.transform(x_test)"
      ],
      "metadata": {
        "id": "8Al0qeFRsJ-F"
      },
      "execution_count": 19,
      "outputs": []
    },
    {
      "cell_type": "code",
      "source": [
        "number_input_features = len(x_train[0])\n",
        "hidden_nodes_layer1 = 128\n",
        "hidden_nodes_layer2 = 64\n",
        "hidden_nodes_layer3 = 32\n",
        "nn = tf.keras.models.Sequential()\n",
        "nn.add(tf.keras.layers.Dense(units=hidden_nodes_layer1, input_dim=number_input_features, activation=\"relu\"))\n",
        "\n",
        "nn.add(tf.keras.layers.Dense(units=hidden_nodes_layer2, activation=\"relu\"))\n",
        "\n",
        "nn.add(tf.keras.layers.Dense(units=hidden_nodes_layer3, activation=\"relu\"))\n",
        "\n",
        "nn.add(tf.keras.layers.Dense(units=1))\n",
        "\n",
        "# Linear activation for regression\n",
        "nn.compile(loss=\"mean_absolute_error\", optimizer=\"adam\")\n",
        "\n",
        "fit_model = nn.fit(\n",
        "    x_train_scaled,\n",
        "    y_train,\n",
        "    epochs=50,\n",
        "    validation_split=0.2\n",
        ")"
      ],
      "metadata": {
        "colab": {
          "base_uri": "https://localhost:8080/"
        },
        "id": "gTIwJvIv4llV",
        "outputId": "f5d1dd20-ac17-4558-8a77-79cce005a6bd"
      },
      "execution_count": 20,
      "outputs": [
        {
          "output_type": "stream",
          "name": "stdout",
          "text": [
            "Epoch 1/50\n",
            "23196/23196 [==============================] - 56s 2ms/step - loss: 11.5816 - val_loss: 11.5032\n",
            "Epoch 2/50\n",
            "23196/23196 [==============================] - 51s 2ms/step - loss: 11.4473 - val_loss: 11.4070\n",
            "Epoch 3/50\n",
            "23196/23196 [==============================] - 51s 2ms/step - loss: 11.3876 - val_loss: 11.4001\n",
            "Epoch 4/50\n",
            "23196/23196 [==============================] - 53s 2ms/step - loss: 11.3608 - val_loss: 11.3730\n",
            "Epoch 5/50\n",
            "23196/23196 [==============================] - 51s 2ms/step - loss: 11.3486 - val_loss: 11.3522\n",
            "Epoch 6/50\n",
            "23196/23196 [==============================] - 55s 2ms/step - loss: 11.3366 - val_loss: 11.3668\n",
            "Epoch 7/50\n",
            "23196/23196 [==============================] - 53s 2ms/step - loss: 11.3307 - val_loss: 11.3357\n",
            "Epoch 8/50\n",
            "23196/23196 [==============================] - 53s 2ms/step - loss: 11.3236 - val_loss: 11.3536\n",
            "Epoch 9/50\n",
            "23196/23196 [==============================] - 57s 2ms/step - loss: 11.3171 - val_loss: 11.3405\n",
            "Epoch 10/50\n",
            "23196/23196 [==============================] - 55s 2ms/step - loss: 11.3126 - val_loss: 11.3086\n",
            "Epoch 11/50\n",
            "23196/23196 [==============================] - 57s 2ms/step - loss: 11.3081 - val_loss: 11.3155\n",
            "Epoch 12/50\n",
            "23196/23196 [==============================] - 57s 2ms/step - loss: 11.3040 - val_loss: 11.3270\n",
            "Epoch 13/50\n",
            "23196/23196 [==============================] - 51s 2ms/step - loss: 11.3003 - val_loss: 11.3352\n",
            "Epoch 14/50\n",
            "23196/23196 [==============================] - 56s 2ms/step - loss: 11.2983 - val_loss: 11.3169\n",
            "Epoch 15/50\n",
            "23196/23196 [==============================] - 54s 2ms/step - loss: 11.2953 - val_loss: 11.3155\n",
            "Epoch 16/50\n",
            "23196/23196 [==============================] - 53s 2ms/step - loss: 11.2921 - val_loss: 11.3091\n",
            "Epoch 17/50\n",
            "23196/23196 [==============================] - 51s 2ms/step - loss: 11.2883 - val_loss: 11.3441\n",
            "Epoch 18/50\n",
            "23196/23196 [==============================] - 55s 2ms/step - loss: 11.2862 - val_loss: 11.3070\n",
            "Epoch 19/50\n",
            "23196/23196 [==============================] - 57s 2ms/step - loss: 11.2871 - val_loss: 11.3006\n",
            "Epoch 20/50\n",
            "23196/23196 [==============================] - 53s 2ms/step - loss: 11.2834 - val_loss: 11.3274\n",
            "Epoch 21/50\n",
            "23196/23196 [==============================] - 52s 2ms/step - loss: 11.2805 - val_loss: 11.3194\n",
            "Epoch 22/50\n",
            "23196/23196 [==============================] - 57s 2ms/step - loss: 11.2783 - val_loss: 11.3020\n",
            "Epoch 23/50\n",
            "23196/23196 [==============================] - 53s 2ms/step - loss: 11.2762 - val_loss: 11.2945\n",
            "Epoch 24/50\n",
            "23196/23196 [==============================] - 55s 2ms/step - loss: 11.2753 - val_loss: 11.2991\n",
            "Epoch 25/50\n",
            "23196/23196 [==============================] - 58s 2ms/step - loss: 11.2729 - val_loss: 11.2879\n",
            "Epoch 26/50\n",
            "23196/23196 [==============================] - 52s 2ms/step - loss: 11.2727 - val_loss: 11.2855\n",
            "Epoch 27/50\n",
            "23196/23196 [==============================] - 58s 2ms/step - loss: 11.2698 - val_loss: 11.3054\n",
            "Epoch 28/50\n",
            "23196/23196 [==============================] - 56s 2ms/step - loss: 11.2702 - val_loss: 11.3331\n",
            "Epoch 29/50\n",
            "23196/23196 [==============================] - 53s 2ms/step - loss: 11.2679 - val_loss: 11.2957\n",
            "Epoch 30/50\n",
            "23196/23196 [==============================] - 57s 2ms/step - loss: 11.2659 - val_loss: 11.2854\n",
            "Epoch 31/50\n",
            "23196/23196 [==============================] - 56s 2ms/step - loss: 11.2650 - val_loss: 11.2844\n",
            "Epoch 32/50\n",
            "23196/23196 [==============================] - 55s 2ms/step - loss: 11.2640 - val_loss: 11.2919\n",
            "Epoch 33/50\n",
            "23196/23196 [==============================] - 54s 2ms/step - loss: 11.2627 - val_loss: 11.2831\n",
            "Epoch 34/50\n",
            "23196/23196 [==============================] - 53s 2ms/step - loss: 11.2613 - val_loss: 11.2914\n",
            "Epoch 35/50\n",
            "23196/23196 [==============================] - 52s 2ms/step - loss: 11.2598 - val_loss: 11.2891\n",
            "Epoch 36/50\n",
            "23196/23196 [==============================] - 55s 2ms/step - loss: 11.2605 - val_loss: 11.2932\n",
            "Epoch 37/50\n",
            "23196/23196 [==============================] - 51s 2ms/step - loss: 11.2586 - val_loss: 11.2813\n",
            "Epoch 38/50\n",
            "23196/23196 [==============================] - 56s 2ms/step - loss: 11.2574 - val_loss: 11.2927\n",
            "Epoch 39/50\n",
            "23196/23196 [==============================] - 51s 2ms/step - loss: 11.2562 - val_loss: 11.2918\n",
            "Epoch 40/50\n",
            "23196/23196 [==============================] - 55s 2ms/step - loss: 11.2557 - val_loss: 11.2892\n",
            "Epoch 41/50\n",
            "23196/23196 [==============================] - 51s 2ms/step - loss: 11.2555 - val_loss: 11.2828\n",
            "Epoch 42/50\n",
            "23196/23196 [==============================] - 57s 2ms/step - loss: 11.2545 - val_loss: 11.2869\n",
            "Epoch 43/50\n",
            "23196/23196 [==============================] - 51s 2ms/step - loss: 11.2549 - val_loss: 11.2839\n",
            "Epoch 44/50\n",
            "23196/23196 [==============================] - 53s 2ms/step - loss: 11.2538 - val_loss: 11.2950\n",
            "Epoch 45/50\n",
            "23196/23196 [==============================] - 55s 2ms/step - loss: 11.2522 - val_loss: 11.3038\n",
            "Epoch 46/50\n",
            "23196/23196 [==============================] - 57s 2ms/step - loss: 11.2510 - val_loss: 11.2845\n",
            "Epoch 47/50\n",
            "23196/23196 [==============================] - 51s 2ms/step - loss: 11.2508 - val_loss: 11.2849\n",
            "Epoch 48/50\n",
            "23196/23196 [==============================] - 55s 2ms/step - loss: 11.2500 - val_loss: 11.2819\n",
            "Epoch 49/50\n",
            "23196/23196 [==============================] - 57s 2ms/step - loss: 11.2477 - val_loss: 11.2880\n",
            "Epoch 50/50\n",
            "23196/23196 [==============================] - 55s 2ms/step - loss: 11.2480 - val_loss: 11.2994\n"
          ]
        }
      ]
    },
    {
      "cell_type": "code",
      "source": [
        "# Evaluate the model using the test data\n",
        "model_loss= nn.evaluate(x_test_scaled,y_test,verbose=2)\n",
        "print(f\"Loss: {model_loss}\")"
      ],
      "metadata": {
        "id": "cW6zqDpotOLt",
        "colab": {
          "base_uri": "https://localhost:8080/"
        },
        "outputId": "244fb93d-33aa-4c68-cf0a-99b0429b2118"
      },
      "execution_count": 22,
      "outputs": [
        {
          "output_type": "stream",
          "name": "stdout",
          "text": [
            "7249/7249 - 16s - loss: 11.2966 - 16s/epoch - 2ms/step\n",
            "Loss: 11.296585083007812\n"
          ]
        }
      ]
    }
  ]
}